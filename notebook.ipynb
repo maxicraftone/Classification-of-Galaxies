{
 "cells": [
  {
   "cell_type": "code",
   "execution_count": 1,
   "metadata": {},
   "outputs": [
    {
     "name": "stderr",
     "output_type": "stream",
     "text": [
      "/home/max/anaconda3/envs/class-of-galaxies/lib/python3.10/site-packages/tqdm/auto.py:22: TqdmWarning: IProgress not found. Please update jupyter and ipywidgets. See https://ipywidgets.readthedocs.io/en/stable/user_install.html\n",
      "  from .autonotebook import tqdm as notebook_tqdm\n"
     ]
    }
   ],
   "source": [
    "from torchvision import transforms\n",
    "from torch.utils.data import random_split\n",
    "from torch.utils.data import Dataset\n",
    "from torch.utils.data import DataLoader\n",
    "\n",
    "from torch import nn\n",
    "import torch.nn.functional as F\n",
    "import torch\n",
    "from torch.optim import Adam\n",
    "\n",
    "from torch import cuda\n",
    "\n",
    "import matplotlib.pyplot as plt\n",
    "import pandas as pd\n",
    "from skimage import io\n",
    "from tqdm import tqdm\n",
    "import os"
   ]
  },
  {
   "cell_type": "code",
   "execution_count": 2,
   "metadata": {},
   "outputs": [],
   "source": [
    "### Parameters\n",
    "batch_size = 64\n",
    "crop_size = 256\n",
    "image_size = 102\n",
    "\n",
    "save_network = True\n",
    "load_network = False\n",
    "\n",
    "if cuda.is_available():\n",
    "    device = 'cuda'\n",
    "else:\n",
    "    device = 'cpu'\n",
    "\n",
    "### Hyperparams\n",
    "learning_rate = 0.002\n",
    "betas = (0.9, 0.999)"
   ]
  },
  {
   "cell_type": "code",
   "execution_count": 3,
   "metadata": {},
   "outputs": [],
   "source": [
    "class GZ2Dataset(Dataset):\n",
    "    def __init__(self, csv_file_maps: str, csv_file_data: str, root_dir: str, transform = None) -> None:\n",
    "        \"\"\"\n",
    "        Initializes the dataset.\n",
    "\n",
    "        Parameters:\n",
    "            csv_file_maps (str): Name of *.csv file that contains the filename to id mapping for the images\n",
    "            csv_file_data (str): Name of *.csv file that contains the labeled data for every id\n",
    "            root_dir (str): Directory containing all the images\n",
    "            transform (class from torchvision.transforms): Transform to be used on the image data\n",
    "        \"\"\"\n",
    "        self.maps = pd.read_csv(csv_file_maps)\n",
    "        self.data = pd.read_csv(csv_file_data)[:-20000] # Reserve last 20000 elements for testing\n",
    "        self.root_dir = root_dir\n",
    "        self.transform = transform\n",
    "    \n",
    "    def __len__(self) -> int:\n",
    "        \"\"\"\n",
    "        Returns the size of the dataset as number of elements.\n",
    "\n",
    "        Returns:\n",
    "            int: Number of elements\n",
    "        \"\"\"\n",
    "        return len(self.data)\n",
    "    \n",
    "    def __getitem__(self, index: int) -> tuple:\n",
    "        \"\"\"\n",
    "        Returns an element from the dataset for a given index.\n",
    "\n",
    "        Parameters:\n",
    "            index (int): The index of the element to be returned\n",
    "\n",
    "        Returns:\n",
    "            tuple: Tuple in the form of (image_data: torch.Tensor, datapoint_1, datapoint_2, ...)\n",
    "\n",
    "        \"\"\"\n",
    "        # Value of the \"dr7objid\" field for the current element\n",
    "        dr7objid = self.data['dr7objid'][index]\n",
    "\n",
    "        filename = str(self.maps[self.maps['objid'] == dr7objid]['asset_id'].item()) + '.jpg'\n",
    "        image_path = os.path.join(self.root_dir, filename)\n",
    "        image = io.imread(image_path) # Load image as numpy tensor with normalized color values\n",
    "\n",
    "        # pandas Dataframe containing all the datapoints for the given dr7objid\n",
    "        image_data = self.data.loc[self.data['dr7objid'] == dr7objid]\n",
    "\n",
    "        # Select prediction (for t01) from maximum percentage of votes \n",
    "        predictions = [image_data.to_numpy()[0][13], image_data.to_numpy()[0][19], image_data.to_numpy()[0][25]]\n",
    "        prediction = predictions.index(max(predictions))\n",
    "\n",
    "        # Possible predictions:\n",
    "        # 0:= smooth\n",
    "        # 1:= features\n",
    "        # 2:= star\n",
    "\n",
    "        if self.transform:\n",
    "            image = self.transform(image)\n",
    "\n",
    "        output = tuple([image.to(device), torch.tensor(prediction).to(device)])#, torch.tensor(predictions).to(device)])\n",
    "\n",
    "        return output"
   ]
  },
  {
   "cell_type": "code",
   "execution_count": 4,
   "metadata": {},
   "outputs": [],
   "source": [
    "transform = transforms.Compose([transforms.ToTensor(), transforms.CenterCrop(crop_size), transforms.Resize(image_size)]) # Transforms to be used on the data\n",
    "\n",
    "dataset = GZ2Dataset(csv_file_maps='gz2_filename_mapping.csv', csv_file_data='gz2_hart16_cleaned.csv', root_dir='images_gz2/images/', transform=transform)\n",
    "\n",
    "# Split dataset into training and testing data using 80% of the dataset for training and 20% for testing \n",
    "trainset, testset = random_split(dataset, [round(0.8*len(dataset)), round(0.2*len(dataset))])"
   ]
  },
  {
   "cell_type": "code",
   "execution_count": 5,
   "metadata": {},
   "outputs": [],
   "source": [
    "trainloader = DataLoader(trainset, batch_size=batch_size, shuffle=True)\n",
    "testloader = DataLoader(testset, batch_size=batch_size, shuffle=True)"
   ]
  },
  {
   "cell_type": "code",
   "execution_count": 6,
   "metadata": {},
   "outputs": [],
   "source": [
    "class CNN_T01(nn.Module):\n",
    "    def __init__(self, save_file: str):\n",
    "        super(CNN_T01, self).__init__()   # 106 - 104 - 52 - 50 - 25 - 24 - 12 \n",
    "        self.save_file = save_file\n",
    "        \n",
    "        self.conv1 = nn.Conv2d(3, 32, 3)\n",
    "        self.conv2 = nn.Conv2d(32, 64, 3) \n",
    "        self.conv3 = nn.Conv2d(64, 128, 2)\n",
    "\n",
    "        self.lin = nn.Linear(128*11*11, 128)\n",
    "        self.out = nn.Linear(128, 3)\n",
    "    \n",
    "    def forward(self, x):\n",
    "        x = F.dropout(F.max_pool2d(self.conv1(x), (2,2)), 0.1)\n",
    "        x = F.dropout(F.max_pool2d(self.conv2(x), (2,2)), 0.2)\n",
    "        x = F.dropout(F.max_pool2d(self.conv3(x), (2,2)), 0.3)\n",
    "        #print(x.shape)\n",
    "\n",
    "        x = x.flatten(start_dim=1)\n",
    "\n",
    "        #x = self.drop1(x)\n",
    "\n",
    "        x = F.dropout(F.relu(self.lin(x)), 0.4)\n",
    "        x = self.out(x)\n",
    "        return x"
   ]
  },
  {
   "cell_type": "code",
   "execution_count": 7,
   "metadata": {},
   "outputs": [],
   "source": [
    "net_t01 = CNN_T01('net_t01.state').to(device)\n",
    "\n",
    "optimizer = Adam(net_t01.parameters(), lr=learning_rate, betas=betas)\n",
    "criterion = nn.CrossEntropyLoss().to(device)"
   ]
  },
  {
   "cell_type": "code",
   "execution_count": 9,
   "metadata": {},
   "outputs": [
    {
     "name": "stderr",
     "output_type": "stream",
     "text": [
      "Epoch [1/1]: 100%|██████████| 2745/2745 [10:00<00:00,  4.57it/s, loss=0.468]\n",
      "> Validation on test data : 100%|██████████| 687/687 [02:33<00:00,  4.47it/s, acc=0.789, loss=0.456]\n"
     ]
    }
   ],
   "source": [
    "if not load_network:\n",
    "    epochs = 1\n",
    "\n",
    "    training_losses = []\n",
    "\n",
    "    for epoch in range(epochs):\n",
    "        #Training\n",
    "        training_loss = 0\n",
    "\n",
    "        trainloop = tqdm(trainloader)\n",
    "\n",
    "        for i, (images, labels) in enumerate(trainloop):\n",
    "            optimizer.zero_grad() #Set gradients to zero\n",
    "            \n",
    "            predictions = net_t01(images)\n",
    "\n",
    "            loss = criterion(predictions, labels)\n",
    "            loss.backward()\n",
    "            \n",
    "            optimizer.step()\n",
    "            \n",
    "            training_loss += loss.item()\n",
    "\n",
    "            trainloop.set_description(f\"Epoch [{epoch+1}/{epochs}]\")\n",
    "            trainloop.set_postfix(loss=training_loss/(i+1))\n",
    "        \n",
    "        training_losses.append(training_loss/len(trainloader))\n",
    "\n",
    "    if save_network:\n",
    "        torch.save(net_t01.state_dict(), net_t01.save_file)\n",
    "else:\n",
    "    net_t01.load_state_dict(torch.load(net_t01.save_file))\n",
    "\n",
    "#Validation\n",
    "net_t01.eval()\n",
    "\n",
    "test_losses = []\n",
    "test_loss = 0\n",
    "accuracy = 0\n",
    "\n",
    "testloop = tqdm(testloader)\n",
    "\n",
    "for i, (images,labels) in enumerate(testloop):\n",
    "    with torch.no_grad():\n",
    "        test_predictions = net_t01(images)\n",
    "            \n",
    "        test_loss += criterion(test_predictions, labels)\n",
    "                        \n",
    "        top_probability, top_guess = test_predictions.topk(1, dim=1) #Tensor of top guesses for each image\n",
    "        guess_correct = top_guess == labels.view(top_guess.shape) #Tensor of booleans for each guess (True: correct guess, False: wrong guess)\n",
    "        accuracy += torch.mean(guess_correct.type(torch.FloatTensor)) #Calculate mean of booleans (True:=1.0, False:=0.0)\n",
    "            \n",
    "    testloop.set_description(f\"> Validation on test data \")\n",
    "    testloop.set_postfix(loss=test_loss.item()/(i+1),acc=accuracy.item()/(i+1))\n",
    "\n",
    "test_losses.append(test_loss.tolist()/len(testloader))"
   ]
  },
  {
   "cell_type": "code",
   "execution_count": 20,
   "metadata": {},
   "outputs": [
    {
     "name": "stdout",
     "output_type": "stream",
     "text": [
      "43915\n",
      "Guess: featured\n",
      "Label: smooth\n"
     ]
    },
    {
     "data": {
      "image/png": "[encoded data removed]",
      "text/plain": [
       "<Figure size 640x480 with 1 Axes>"
      ]
     },
     "metadata": {},
     "output_type": "display_data"
    }
   ],
   "source": [
    "image, label = next(iter(testloader))\n",
    "\n",
    "print(len(testset))\n",
    "\n",
    "prediction = net_t01(image.reshape(batch_size,3,image_size,image_size))\n",
    "\n",
    "plt.imshow(image[0].permute(1,2,0).cpu().numpy())\n",
    "\n",
    "#print(prediction.topk(1,dim=1)[1][0])\n",
    "\n",
    "print('Guess: ' + ['smooth', 'featured', 'star'][prediction.topk(1,dim=1)[1][0].item()])\n",
    "print('Label: ' + ['smooth', 'featured', 'star'][label[0].item()])\n",
    "#print('Label percentage: ' + str(label_split[0].tolist()))"
   ]
  }
 ],
 "metadata": {
  "kernelspec": {
   "display_name": "class-of-galaxies",
   "language": "python",
   "name": "python3"
  },
  "language_info": {
   "codemirror_mode": {
    "name": "ipython",
    "version": 3
   },
   "file_extension": ".py",
   "mimetype": "text/x-python",
   "name": "python",
   "nbconvert_exporter": "python",
   "pygments_lexer": "ipython3",
   "version": "3.10.8"
  },
  "orig_nbformat": 4,
  "vscode": {
   "interpreter": {
    "hash": "dc74a37fd9b5dae04537e23c756462ec4e88f32b6546978c8f3b7d587dee2175"
   }
  }
 },
 "nbformat": 4,
 "nbformat_minor": 2
}
