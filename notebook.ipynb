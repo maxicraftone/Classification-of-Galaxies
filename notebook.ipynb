{
 "cells": [
  {
   "cell_type": "code",
   "execution_count": 22,
   "metadata": {},
   "outputs": [],
   "source": [
    "from torchvision import transforms\n",
    "from torch.utils.data import random_split\n",
    "from torch.utils.data import Dataset\n",
    "from torch.utils.data import DataLoader\n",
    "\n",
    "from torch import nn\n",
    "import torch.nn.functional as F\n",
    "import torch\n",
    "from torch.optim import Adam\n",
    "\n",
    "from torch import cuda\n",
    "\n",
    "from torchinfo import summary\n",
    "\n",
    "import matplotlib.pyplot as plt\n",
    "import pandas as pd\n",
    "from skimage import io\n",
    "from tqdm import tqdm\n",
    "import os"
   ]
  },
  {
   "cell_type": "code",
   "execution_count": 23,
   "metadata": {},
   "outputs": [],
   "source": [
    "### Parameters\n",
    "batch_size = 64\n",
    "crop_size = 256\n",
    "image_size = 102\n",
    "\n",
    "save_t00 = True\n",
    "load_t00 = False\n",
    "\n",
    "save_t01 = True\n",
    "load_t01 = False\n",
    "\n",
    "torch.manual_seed(12)\n",
    "\n",
    "if cuda.is_available():\n",
    "    device = 'cuda'\n",
    "else:\n",
    "    device = 'cpu'\n",
    "\n",
    "### Hyperparams\n",
    "learning_rate = 0.002\n",
    "betas = (0.9, 0.999)"
   ]
  },
  {
   "cell_type": "code",
   "execution_count": 26,
   "metadata": {},
   "outputs": [],
   "source": [
    "class GZ2Dataset(Dataset):\n",
    "    def __init__(self, csv_file_maps: str, csv_file_data: str, root_dir: str, transform = None) -> None:\n",
    "        \"\"\"\n",
    "        Initializes the dataset.\n",
    "\n",
    "        Parameters:\n",
    "            csv_file_maps (str): Name of *.csv file that contains the filename to id mapping for the images\n",
    "            csv_file_data (str): Name of *.csv file that contains the labeled data for every id\n",
    "            root_dir (str): Directory containing all the images\n",
    "            transform (class from torchvision.transforms): Transform to be used on the image data\n",
    "        \"\"\"\n",
    "        self.maps = pd.read_csv(csv_file_maps)\n",
    "        self.data = pd.read_csv(csv_file_data)\n",
    "        self.root_dir = root_dir\n",
    "        self.transform = transform\n",
    "    \n",
    "    def __len__(self) -> int:\n",
    "        \"\"\"\n",
    "        Returns the size of the dataset as number of elements.\n",
    "\n",
    "        Returns:\n",
    "            int: Number of elements\n",
    "        \"\"\"\n",
    "        return len(self.data)\n",
    "    \n",
    "    def __getitem__(self, index: int) -> tuple:\n",
    "        \"\"\"\n",
    "        Returns an element from the dataset for a given index.\n",
    "\n",
    "        Parameters:\n",
    "            index (int): The index of the element to be returned\n",
    "\n",
    "        Returns:\n",
    "            tuple: Tuple in the form of (image_data: torch.Tensor, datapoint_1, datapoint_2, ...)\n",
    "\n",
    "        \"\"\"\n",
    "        # Value of the \"dr7objid\" field for the current element\n",
    "        dr7objid = self.data['dr7objid'][index]\n",
    "\n",
    "        filename = str(self.maps[self.maps['objid'] == dr7objid]['asset_id'].item()) + '.jpg'\n",
    "        image_path = os.path.join(self.root_dir, filename)\n",
    "        image = io.imread(image_path) # Load image as numpy tensor with normalized color values\n",
    "\n",
    "        # pandas Dataframe containing all the datapoints for the given dr7objid\n",
    "        image_data = self.data.loc[self.data['dr7objid'] == dr7objid]\n",
    "\n",
    "        # Select prediction (for t01) from maximum percentage of votes \n",
    "        predictions_t01 = [image_data.to_numpy()[0][13], image_data.to_numpy()[0][19], image_data.to_numpy()[0][25]]\n",
    "        prediction_t01 = predictions_t01.index(max(predictions_t01))\n",
    "\n",
    "        predictions_t02 = [image_data.to_numpy()[0][31], image_data.to_numpy()[0][37]]\n",
    "        prediction_t02 = predictions_t02.index(max(predictions_t02))\n",
    "\n",
    "        # Possible predictions:\n",
    "        # 0:= smooth\n",
    "        # 1:= features\n",
    "        # 2:= star\n",
    "\n",
    "        if self.transform:\n",
    "            image = self.transform(image)\n",
    "\n",
    "        output = tuple([image.to(device), torch.tensor(prediction_t01).to(device), torch.tensor(prediction_t02).to(device)])#, torch.tensor(predictions).to(device)])\n",
    "\n",
    "        return output\n",
    "    \n",
    "    def preprocess(self):\n",
    "        for i in range(len(self.data)):\n",
    "            image_data = self.data.iloc[[i]]\n",
    "            if abs(image_data.to_numpy()[0][13] - image_data.to_numpy()[0][19]) <= 0.2:\n",
    "                self.data = self.data.drop(i)\n",
    "            if i % 1000 == 0:\n",
    "                print(i, len(self.data))\n",
    "        self.data = self.data[:-round(0.15*len(self.data))] # Reserve last 15% of elements for testing"
   ]
  },
  {
   "cell_type": "code",
   "execution_count": 27,
   "metadata": {},
   "outputs": [
    {
     "name": "stdout",
     "output_type": "stream",
     "text": [
      "0 203637\n",
      "1000 203562\n",
      "2000 203487\n",
      "3000 203403\n",
      "4000 203316\n",
      "5000 203234\n",
      "6000 203145\n",
      "7000 203045\n",
      "8000 202943\n",
      "9000 202864\n",
      "10000 202774\n",
      "11000 202675\n",
      "12000 202562\n",
      "13000 202457\n"
     ]
    },
    {
     "ename": "KeyboardInterrupt",
     "evalue": "",
     "output_type": "error",
     "traceback": [
      "\u001b[0;31m---------------------------------------------------------------------------\u001b[0m",
      "\u001b[0;31mKeyboardInterrupt\u001b[0m                         Traceback (most recent call last)",
      "Cell \u001b[0;32mIn[27], line 11\u001b[0m\n\u001b[1;32m      1\u001b[0m transform \u001b[39m=\u001b[39m transforms\u001b[39m.\u001b[39mCompose([transforms\u001b[39m.\u001b[39mToTensor(), \n\u001b[1;32m      2\u001b[0m                                 transforms\u001b[39m.\u001b[39mRandomRotation(degrees\u001b[39m=\u001b[39m(\u001b[39m0\u001b[39m,\u001b[39m180\u001b[39m)), \n\u001b[1;32m      3\u001b[0m                                 transforms\u001b[39m.\u001b[39mCenterCrop(crop_size), \n\u001b[1;32m      4\u001b[0m                                 transforms\u001b[39m.\u001b[39mResize(image_size)]) \u001b[39m# Transforms to be used on the data\u001b[39;00m\n\u001b[1;32m      6\u001b[0m dataset \u001b[39m=\u001b[39m GZ2Dataset(csv_file_maps\u001b[39m=\u001b[39m\u001b[39m'\u001b[39m\u001b[39mgz2_filename_mapping.csv\u001b[39m\u001b[39m'\u001b[39m, \n\u001b[1;32m      7\u001b[0m                      csv_file_data\u001b[39m=\u001b[39m\u001b[39m'\u001b[39m\u001b[39mgz2_hart16_cleaned.csv\u001b[39m\u001b[39m'\u001b[39m, \n\u001b[1;32m      8\u001b[0m                      root_dir\u001b[39m=\u001b[39m\u001b[39m'\u001b[39m\u001b[39mimages_gz2/images/\u001b[39m\u001b[39m'\u001b[39m, \n\u001b[1;32m      9\u001b[0m                      transform\u001b[39m=\u001b[39mtransform)\n\u001b[0;32m---> 11\u001b[0m dataset\u001b[39m.\u001b[39;49mpreprocess()\n\u001b[1;32m     13\u001b[0m \u001b[39m# Split dataset into training and testing data using 80% of the dataset for training and 20% for validation \u001b[39;00m\n\u001b[1;32m     14\u001b[0m \u001b[39m##trainset, testset, rest = random_split(dataset, [round(0.05*len(dataset)), round(0.002*len(dataset)), round(0.948*len(dataset))])\u001b[39;00m\n\u001b[1;32m     15\u001b[0m trainset, testset \u001b[39m=\u001b[39m random_split(dataset, [\u001b[39mround\u001b[39m(\u001b[39m0.8\u001b[39m\u001b[39m*\u001b[39m\u001b[39mlen\u001b[39m(dataset)), \u001b[39mround\u001b[39m(\u001b[39m0.2\u001b[39m\u001b[39m*\u001b[39m\u001b[39mlen\u001b[39m(dataset))])\n",
      "Cell \u001b[0;32mIn[26], line 71\u001b[0m, in \u001b[0;36mGZ2Dataset.preprocess\u001b[0;34m(self)\u001b[0m\n\u001b[1;32m     69\u001b[0m image_data \u001b[39m=\u001b[39m \u001b[39mself\u001b[39m\u001b[39m.\u001b[39mdata\u001b[39m.\u001b[39miloc[[i]]\n\u001b[1;32m     70\u001b[0m \u001b[39mif\u001b[39;00m \u001b[39mabs\u001b[39m(image_data\u001b[39m.\u001b[39mto_numpy()[\u001b[39m0\u001b[39m][\u001b[39m13\u001b[39m] \u001b[39m-\u001b[39m image_data\u001b[39m.\u001b[39mto_numpy()[\u001b[39m0\u001b[39m][\u001b[39m19\u001b[39m]) \u001b[39m<\u001b[39m\u001b[39m=\u001b[39m \u001b[39m0.2\u001b[39m:\n\u001b[0;32m---> 71\u001b[0m     \u001b[39mself\u001b[39m\u001b[39m.\u001b[39mdata \u001b[39m=\u001b[39m \u001b[39mself\u001b[39;49m\u001b[39m.\u001b[39;49mdata\u001b[39m.\u001b[39;49mdrop(i)\n\u001b[1;32m     72\u001b[0m \u001b[39mif\u001b[39;00m i \u001b[39m%\u001b[39m \u001b[39m1000\u001b[39m \u001b[39m==\u001b[39m \u001b[39m0\u001b[39m:\n\u001b[1;32m     73\u001b[0m     \u001b[39mprint\u001b[39m(i, \u001b[39mlen\u001b[39m(\u001b[39mself\u001b[39m\u001b[39m.\u001b[39mdata))\n",
      "File \u001b[0;32m~/anaconda3/envs/class-of-galaxies/lib/python3.10/site-packages/pandas/util/_decorators.py:331\u001b[0m, in \u001b[0;36mdeprecate_nonkeyword_arguments.<locals>.decorate.<locals>.wrapper\u001b[0;34m(*args, **kwargs)\u001b[0m\n\u001b[1;32m    325\u001b[0m \u001b[39mif\u001b[39;00m \u001b[39mlen\u001b[39m(args) \u001b[39m>\u001b[39m num_allow_args:\n\u001b[1;32m    326\u001b[0m     warnings\u001b[39m.\u001b[39mwarn(\n\u001b[1;32m    327\u001b[0m         msg\u001b[39m.\u001b[39mformat(arguments\u001b[39m=\u001b[39m_format_argument_list(allow_args)),\n\u001b[1;32m    328\u001b[0m         \u001b[39mFutureWarning\u001b[39;00m,\n\u001b[1;32m    329\u001b[0m         stacklevel\u001b[39m=\u001b[39mfind_stack_level(),\n\u001b[1;32m    330\u001b[0m     )\n\u001b[0;32m--> 331\u001b[0m \u001b[39mreturn\u001b[39;00m func(\u001b[39m*\u001b[39;49margs, \u001b[39m*\u001b[39;49m\u001b[39m*\u001b[39;49mkwargs)\n",
      "File \u001b[0;32m~/anaconda3/envs/class-of-galaxies/lib/python3.10/site-packages/pandas/core/frame.py:5396\u001b[0m, in \u001b[0;36mDataFrame.drop\u001b[0;34m(self, labels, axis, index, columns, level, inplace, errors)\u001b[0m\n\u001b[1;32m   5248\u001b[0m \u001b[39m@deprecate_nonkeyword_arguments\u001b[39m(version\u001b[39m=\u001b[39m\u001b[39mNone\u001b[39;00m, allowed_args\u001b[39m=\u001b[39m[\u001b[39m\"\u001b[39m\u001b[39mself\u001b[39m\u001b[39m\"\u001b[39m, \u001b[39m\"\u001b[39m\u001b[39mlabels\u001b[39m\u001b[39m\"\u001b[39m])\n\u001b[1;32m   5249\u001b[0m \u001b[39mdef\u001b[39;00m \u001b[39mdrop\u001b[39m(  \u001b[39m# type: ignore[override]\u001b[39;00m\n\u001b[1;32m   5250\u001b[0m     \u001b[39mself\u001b[39m,\n\u001b[0;32m   (...)\u001b[0m\n\u001b[1;32m   5257\u001b[0m     errors: IgnoreRaise \u001b[39m=\u001b[39m \u001b[39m\"\u001b[39m\u001b[39mraise\u001b[39m\u001b[39m\"\u001b[39m,\n\u001b[1;32m   5258\u001b[0m ) \u001b[39m-\u001b[39m\u001b[39m>\u001b[39m DataFrame \u001b[39m|\u001b[39m \u001b[39mNone\u001b[39;00m:\n\u001b[1;32m   5259\u001b[0m \u001b[39m    \u001b[39m\u001b[39m\"\"\"\u001b[39;00m\n\u001b[1;32m   5260\u001b[0m \u001b[39m    Drop specified labels from rows or columns.\u001b[39;00m\n\u001b[1;32m   5261\u001b[0m \n\u001b[0;32m   (...)\u001b[0m\n\u001b[1;32m   5394\u001b[0m \u001b[39m            weight  1.0     0.8\u001b[39;00m\n\u001b[1;32m   5395\u001b[0m \u001b[39m    \"\"\"\u001b[39;00m\n\u001b[0;32m-> 5396\u001b[0m     \u001b[39mreturn\u001b[39;00m \u001b[39msuper\u001b[39;49m()\u001b[39m.\u001b[39;49mdrop(\n\u001b[1;32m   5397\u001b[0m         labels\u001b[39m=\u001b[39;49mlabels,\n\u001b[1;32m   5398\u001b[0m         axis\u001b[39m=\u001b[39;49maxis,\n\u001b[1;32m   5399\u001b[0m         index\u001b[39m=\u001b[39;49mindex,\n\u001b[1;32m   5400\u001b[0m         columns\u001b[39m=\u001b[39;49mcolumns,\n\u001b[1;32m   5401\u001b[0m         level\u001b[39m=\u001b[39;49mlevel,\n\u001b[1;32m   5402\u001b[0m         inplace\u001b[39m=\u001b[39;49minplace,\n\u001b[1;32m   5403\u001b[0m         errors\u001b[39m=\u001b[39;49merrors,\n\u001b[1;32m   5404\u001b[0m     )\n",
      "File \u001b[0;32m~/anaconda3/envs/class-of-galaxies/lib/python3.10/site-packages/pandas/util/_decorators.py:331\u001b[0m, in \u001b[0;36mdeprecate_nonkeyword_arguments.<locals>.decorate.<locals>.wrapper\u001b[0;34m(*args, **kwargs)\u001b[0m\n\u001b[1;32m    325\u001b[0m \u001b[39mif\u001b[39;00m \u001b[39mlen\u001b[39m(args) \u001b[39m>\u001b[39m num_allow_args:\n\u001b[1;32m    326\u001b[0m     warnings\u001b[39m.\u001b[39mwarn(\n\u001b[1;32m    327\u001b[0m         msg\u001b[39m.\u001b[39mformat(arguments\u001b[39m=\u001b[39m_format_argument_list(allow_args)),\n\u001b[1;32m    328\u001b[0m         \u001b[39mFutureWarning\u001b[39;00m,\n\u001b[1;32m    329\u001b[0m         stacklevel\u001b[39m=\u001b[39mfind_stack_level(),\n\u001b[1;32m    330\u001b[0m     )\n\u001b[0;32m--> 331\u001b[0m \u001b[39mreturn\u001b[39;00m func(\u001b[39m*\u001b[39;49margs, \u001b[39m*\u001b[39;49m\u001b[39m*\u001b[39;49mkwargs)\n",
      "File \u001b[0;32m~/anaconda3/envs/class-of-galaxies/lib/python3.10/site-packages/pandas/core/generic.py:4505\u001b[0m, in \u001b[0;36mNDFrame.drop\u001b[0;34m(self, labels, axis, index, columns, level, inplace, errors)\u001b[0m\n\u001b[1;32m   4503\u001b[0m \u001b[39mfor\u001b[39;00m axis, labels \u001b[39min\u001b[39;00m axes\u001b[39m.\u001b[39mitems():\n\u001b[1;32m   4504\u001b[0m     \u001b[39mif\u001b[39;00m labels \u001b[39mis\u001b[39;00m \u001b[39mnot\u001b[39;00m \u001b[39mNone\u001b[39;00m:\n\u001b[0;32m-> 4505\u001b[0m         obj \u001b[39m=\u001b[39m obj\u001b[39m.\u001b[39;49m_drop_axis(labels, axis, level\u001b[39m=\u001b[39;49mlevel, errors\u001b[39m=\u001b[39;49merrors)\n\u001b[1;32m   4507\u001b[0m \u001b[39mif\u001b[39;00m inplace:\n\u001b[1;32m   4508\u001b[0m     \u001b[39mself\u001b[39m\u001b[39m.\u001b[39m_update_inplace(obj)\n",
      "File \u001b[0;32m~/anaconda3/envs/class-of-galaxies/lib/python3.10/site-packages/pandas/core/generic.py:4585\u001b[0m, in \u001b[0;36mNDFrame._drop_axis\u001b[0;34m(self, labels, axis, level, errors, only_slice)\u001b[0m\n\u001b[1;32m   4582\u001b[0m     new_axis \u001b[39m=\u001b[39m axis\u001b[39m.\u001b[39mtake(indexer)\n\u001b[1;32m   4584\u001b[0m bm_axis \u001b[39m=\u001b[39m \u001b[39mself\u001b[39m\u001b[39m.\u001b[39mndim \u001b[39m-\u001b[39m axis_num \u001b[39m-\u001b[39m \u001b[39m1\u001b[39m\n\u001b[0;32m-> 4585\u001b[0m new_mgr \u001b[39m=\u001b[39m \u001b[39mself\u001b[39;49m\u001b[39m.\u001b[39;49m_mgr\u001b[39m.\u001b[39;49mreindex_indexer(\n\u001b[1;32m   4586\u001b[0m     new_axis,\n\u001b[1;32m   4587\u001b[0m     indexer,\n\u001b[1;32m   4588\u001b[0m     axis\u001b[39m=\u001b[39;49mbm_axis,\n\u001b[1;32m   4589\u001b[0m     allow_dups\u001b[39m=\u001b[39;49m\u001b[39mTrue\u001b[39;49;00m,\n\u001b[1;32m   4590\u001b[0m     only_slice\u001b[39m=\u001b[39;49monly_slice,\n\u001b[1;32m   4591\u001b[0m )\n\u001b[1;32m   4592\u001b[0m result \u001b[39m=\u001b[39m \u001b[39mself\u001b[39m\u001b[39m.\u001b[39m_constructor(new_mgr)\n\u001b[1;32m   4593\u001b[0m \u001b[39mif\u001b[39;00m \u001b[39mself\u001b[39m\u001b[39m.\u001b[39mndim \u001b[39m==\u001b[39m \u001b[39m1\u001b[39m:\n",
      "File \u001b[0;32m~/anaconda3/envs/class-of-galaxies/lib/python3.10/site-packages/pandas/core/internals/managers.py:753\u001b[0m, in \u001b[0;36mBaseBlockManager.reindex_indexer\u001b[0;34m(self, new_axis, indexer, axis, fill_value, allow_dups, copy, only_slice, use_na_proxy)\u001b[0m\n\u001b[1;32m    751\u001b[0m     parent \u001b[39m=\u001b[39m \u001b[39mNone\u001b[39;00m \u001b[39mif\u001b[39;00m com\u001b[39m.\u001b[39mall_none(\u001b[39m*\u001b[39mnew_refs) \u001b[39melse\u001b[39;00m \u001b[39mself\u001b[39m\n\u001b[1;32m    752\u001b[0m \u001b[39melse\u001b[39;00m:\n\u001b[0;32m--> 753\u001b[0m     new_blocks \u001b[39m=\u001b[39m [\n\u001b[1;32m    754\u001b[0m         blk\u001b[39m.\u001b[39mtake_nd(\n\u001b[1;32m    755\u001b[0m             indexer,\n\u001b[1;32m    756\u001b[0m             axis\u001b[39m=\u001b[39m\u001b[39m1\u001b[39m,\n\u001b[1;32m    757\u001b[0m             fill_value\u001b[39m=\u001b[39m(\n\u001b[1;32m    758\u001b[0m                 fill_value \u001b[39mif\u001b[39;00m fill_value \u001b[39mis\u001b[39;00m \u001b[39mnot\u001b[39;00m \u001b[39mNone\u001b[39;00m \u001b[39melse\u001b[39;00m blk\u001b[39m.\u001b[39mfill_value\n\u001b[1;32m    759\u001b[0m             ),\n\u001b[1;32m    760\u001b[0m         )\n\u001b[1;32m    761\u001b[0m         \u001b[39mfor\u001b[39;00m blk \u001b[39min\u001b[39;00m \u001b[39mself\u001b[39m\u001b[39m.\u001b[39mblocks\n\u001b[1;32m    762\u001b[0m     ]\n\u001b[1;32m    763\u001b[0m     new_refs \u001b[39m=\u001b[39m \u001b[39mNone\u001b[39;00m\n\u001b[1;32m    764\u001b[0m     parent \u001b[39m=\u001b[39m \u001b[39mNone\u001b[39;00m\n",
      "File \u001b[0;32m~/anaconda3/envs/class-of-galaxies/lib/python3.10/site-packages/pandas/core/internals/managers.py:754\u001b[0m, in \u001b[0;36m<listcomp>\u001b[0;34m(.0)\u001b[0m\n\u001b[1;32m    751\u001b[0m     parent \u001b[39m=\u001b[39m \u001b[39mNone\u001b[39;00m \u001b[39mif\u001b[39;00m com\u001b[39m.\u001b[39mall_none(\u001b[39m*\u001b[39mnew_refs) \u001b[39melse\u001b[39;00m \u001b[39mself\u001b[39m\n\u001b[1;32m    752\u001b[0m \u001b[39melse\u001b[39;00m:\n\u001b[1;32m    753\u001b[0m     new_blocks \u001b[39m=\u001b[39m [\n\u001b[0;32m--> 754\u001b[0m         blk\u001b[39m.\u001b[39;49mtake_nd(\n\u001b[1;32m    755\u001b[0m             indexer,\n\u001b[1;32m    756\u001b[0m             axis\u001b[39m=\u001b[39;49m\u001b[39m1\u001b[39;49m,\n\u001b[1;32m    757\u001b[0m             fill_value\u001b[39m=\u001b[39;49m(\n\u001b[1;32m    758\u001b[0m                 fill_value \u001b[39mif\u001b[39;49;00m fill_value \u001b[39mis\u001b[39;49;00m \u001b[39mnot\u001b[39;49;00m \u001b[39mNone\u001b[39;49;00m \u001b[39melse\u001b[39;49;00m blk\u001b[39m.\u001b[39;49mfill_value\n\u001b[1;32m    759\u001b[0m             ),\n\u001b[1;32m    760\u001b[0m         )\n\u001b[1;32m    761\u001b[0m         \u001b[39mfor\u001b[39;00m blk \u001b[39min\u001b[39;00m \u001b[39mself\u001b[39m\u001b[39m.\u001b[39mblocks\n\u001b[1;32m    762\u001b[0m     ]\n\u001b[1;32m    763\u001b[0m     new_refs \u001b[39m=\u001b[39m \u001b[39mNone\u001b[39;00m\n\u001b[1;32m    764\u001b[0m     parent \u001b[39m=\u001b[39m \u001b[39mNone\u001b[39;00m\n",
      "File \u001b[0;32m~/anaconda3/envs/class-of-galaxies/lib/python3.10/site-packages/pandas/core/internals/blocks.py:880\u001b[0m, in \u001b[0;36mBlock.take_nd\u001b[0;34m(self, indexer, axis, new_mgr_locs, fill_value)\u001b[0m\n\u001b[1;32m    877\u001b[0m     allow_fill \u001b[39m=\u001b[39m \u001b[39mTrue\u001b[39;00m\n\u001b[1;32m    879\u001b[0m \u001b[39m# Note: algos.take_nd has upcast logic similar to coerce_to_target_dtype\u001b[39;00m\n\u001b[0;32m--> 880\u001b[0m new_values \u001b[39m=\u001b[39m algos\u001b[39m.\u001b[39;49mtake_nd(\n\u001b[1;32m    881\u001b[0m     values, indexer, axis\u001b[39m=\u001b[39;49maxis, allow_fill\u001b[39m=\u001b[39;49mallow_fill, fill_value\u001b[39m=\u001b[39;49mfill_value\n\u001b[1;32m    882\u001b[0m )\n\u001b[1;32m    884\u001b[0m \u001b[39m# Called from three places in managers, all of which satisfy\u001b[39;00m\n\u001b[1;32m    885\u001b[0m \u001b[39m#  this assertion\u001b[39;00m\n\u001b[1;32m    886\u001b[0m \u001b[39massert\u001b[39;00m \u001b[39mnot\u001b[39;00m (axis \u001b[39m==\u001b[39m \u001b[39m0\u001b[39m \u001b[39mand\u001b[39;00m new_mgr_locs \u001b[39mis\u001b[39;00m \u001b[39mNone\u001b[39;00m)\n",
      "File \u001b[0;32m~/anaconda3/envs/class-of-galaxies/lib/python3.10/site-packages/pandas/core/array_algos/take.py:117\u001b[0m, in \u001b[0;36mtake_nd\u001b[0;34m(arr, indexer, axis, fill_value, allow_fill)\u001b[0m\n\u001b[1;32m    114\u001b[0m     \u001b[39mreturn\u001b[39;00m arr\u001b[39m.\u001b[39mtake(indexer, fill_value\u001b[39m=\u001b[39mfill_value, allow_fill\u001b[39m=\u001b[39mallow_fill)\n\u001b[1;32m    116\u001b[0m arr \u001b[39m=\u001b[39m np\u001b[39m.\u001b[39masarray(arr)\n\u001b[0;32m--> 117\u001b[0m \u001b[39mreturn\u001b[39;00m _take_nd_ndarray(arr, indexer, axis, fill_value, allow_fill)\n",
      "File \u001b[0;32m~/anaconda3/envs/class-of-galaxies/lib/python3.10/site-packages/pandas/core/array_algos/take.py:163\u001b[0m, in \u001b[0;36m_take_nd_ndarray\u001b[0;34m(arr, indexer, axis, fill_value, allow_fill)\u001b[0m\n\u001b[1;32m    158\u001b[0m     out \u001b[39m=\u001b[39m np\u001b[39m.\u001b[39mempty(out_shape, dtype\u001b[39m=\u001b[39mdtype)\n\u001b[1;32m    160\u001b[0m func \u001b[39m=\u001b[39m _get_take_nd_function(\n\u001b[1;32m    161\u001b[0m     arr\u001b[39m.\u001b[39mndim, arr\u001b[39m.\u001b[39mdtype, out\u001b[39m.\u001b[39mdtype, axis\u001b[39m=\u001b[39maxis, mask_info\u001b[39m=\u001b[39mmask_info\n\u001b[1;32m    162\u001b[0m )\n\u001b[0;32m--> 163\u001b[0m func(arr, indexer, out, fill_value)\n\u001b[1;32m    165\u001b[0m \u001b[39mif\u001b[39;00m flip_order:\n\u001b[1;32m    166\u001b[0m     out \u001b[39m=\u001b[39m out\u001b[39m.\u001b[39mT\n",
      "\u001b[0;31mKeyboardInterrupt\u001b[0m: "
     ]
    }
   ],
   "source": [
    "transform = transforms.Compose([transforms.ToTensor(), \n",
    "                                transforms.RandomRotation(degrees=(0,180)), \n",
    "                                transforms.CenterCrop(crop_size), \n",
    "                                transforms.Resize(image_size)]) # Transforms to be used on the data\n",
    "\n",
    "dataset = GZ2Dataset(csv_file_maps='gz2_filename_mapping.csv', \n",
    "                     csv_file_data='gz2_hart16_cleaned.csv', \n",
    "                     root_dir='images_gz2/images/', \n",
    "                     transform=transform)\n",
    "\n",
    "dataset.preprocess()\n",
    "\n",
    "# Split dataset into training and testing data using 80% of the dataset for training and 20% for validation \n",
    "##trainset, testset, rest = random_split(dataset, [round(0.05*len(dataset)), round(0.002*len(dataset)), round(0.948*len(dataset))])\n",
    "trainset, testset = random_split(dataset, [round(0.8*len(dataset)), round(0.2*len(dataset))])"
   ]
  },
  {
   "cell_type": "code",
   "execution_count": null,
   "metadata": {},
   "outputs": [],
   "source": [
    "trainloader = DataLoader(trainset, batch_size=batch_size, shuffle=True)\n",
    "testloader = DataLoader(testset, batch_size=batch_size, shuffle=True)\n",
    "print(len(dataset))"
   ]
  },
  {
   "cell_type": "code",
   "execution_count": null,
   "metadata": {},
   "outputs": [],
   "source": [
    "class CNN_T00(nn.Module):\n",
    "    def __init__(self, save_file: str):\n",
    "        super(CNN_T00, self).__init__()\n",
    "        self.save_file = save_file\n",
    "        \n",
    "        self.net = nn.Sequential(nn.Conv2d(3, 32, 3),\n",
    "                                 nn.MaxPool2d((2,2)),\n",
    "                                 nn.Dropout(0.1),\n",
    "\n",
    "                                 nn.Conv2d(32, 64, 3),\n",
    "                                 nn.MaxPool2d((2,2)),\n",
    "                                 nn.Dropout(0.1),\n",
    "\n",
    "                                 nn.Conv2d(64, 128, 3),\n",
    "                                 nn.MaxPool2d((2,2)),\n",
    "                                 nn.Dropout(0.2),\n",
    "\n",
    "                                 nn.Conv2d(128, 256, 3),\n",
    "                                 nn.MaxPool2d((2,2)),\n",
    "                                 nn.Dropout(0.3),\n",
    "\n",
    "                                 nn.Flatten(),\n",
    "\n",
    "                                 nn.Linear(256 * 4 * 4, 128),\n",
    "                                 nn.ReLU(),\n",
    "                                 nn.Dropout(0.4),\n",
    "\n",
    "                                 nn.Linear(128, 32),\n",
    "                                 nn.LeakyReLU(),\n",
    "                                 nn.Dropout(0.5),\n",
    "                                 \n",
    "                                 nn.Linear(32, 3))\n",
    "    \n",
    "    def forward(self, x):\n",
    "        x = self.net(x)\n",
    "        return x"
   ]
  },
  {
   "cell_type": "code",
   "execution_count": null,
   "metadata": {},
   "outputs": [],
   "source": [
    "class CNN_T01(nn.Module):\n",
    "    def __init__(self, save_file: str):\n",
    "        super(CNN_T01, self).__init__()\n",
    "        self.save_file = save_file\n",
    "        \n",
    "        self.conv1 = nn.Conv2d(3, 32, 3)\n",
    "        self.conv2 = nn.Conv2d(32, 64, 3) \n",
    "        self.conv3 = nn.Conv2d(64, 128, 2)\n",
    "\n",
    "        self.lin1 = nn.Linear(128*11*11, 128)\n",
    "        self.lin2 = nn.Linear(128, 32)\n",
    "        self.out = nn.Linear(32, 3)\n",
    "    \n",
    "    def forward(self, x):\n",
    "        x = F.dropout(F.max_pool2d(self.conv1(x), (2,2)), 0.1)\n",
    "        x = F.dropout(F.max_pool2d(self.conv2(x), (2,2)), 0.2)\n",
    "        x = F.dropout(F.max_pool2d(self.conv3(x), (2,2)), 0.3)\n",
    "        #print(x.shape)\n",
    "\n",
    "        x = x.flatten(start_dim=1)\n",
    "\n",
    "        #x = self.drop1(x)\n",
    "\n",
    "        x = F.dropout(F.relu(self.lin1(x)), 0.5)\n",
    "        x = F.dropout(F.leaky_relu(self.lin2(x)), 0.5)\n",
    "        x = self.out(x)\n",
    "        return x"
   ]
  },
  {
   "cell_type": "code",
   "execution_count": null,
   "metadata": {},
   "outputs": [],
   "source": [
    "net_t00 = CNN_T00('net_t00.state').to(device)\n",
    "net_t01 = CNN_T01('net_t01.state').to(device)\n",
    "\n",
    "optim_t00 = Adam(net_t00.parameters(), lr=learning_rate, betas=betas)\n",
    "optim_t01 = Adam(net_t01.parameters(), lr=learning_rate, betas=betas)\n",
    "criterion = nn.CrossEntropyLoss().to(device)"
   ]
  },
  {
   "cell_type": "code",
   "execution_count": null,
   "metadata": {},
   "outputs": [
    {
     "name": "stdout",
     "output_type": "stream",
     "text": [
      "==========================================================================================\n",
      "Layer (type:depth-idx)                   Output Shape              Param #\n",
      "==========================================================================================\n",
      "CNN_T00                                  [64, 3]                   --\n",
      "├─Sequential: 1-1                        [64, 3]                   --\n",
      "│    └─Conv2d: 2-1                       [64, 32, 100, 100]        896\n",
      "│    └─MaxPool2d: 2-2                    [64, 32, 50, 50]          --\n",
      "│    └─Dropout: 2-3                      [64, 32, 50, 50]          --\n",
      "│    └─Conv2d: 2-4                       [64, 64, 48, 48]          18,496\n",
      "│    └─MaxPool2d: 2-5                    [64, 64, 24, 24]          --\n",
      "│    └─Dropout: 2-6                      [64, 64, 24, 24]          --\n",
      "│    └─Conv2d: 2-7                       [64, 128, 22, 22]         73,856\n",
      "│    └─MaxPool2d: 2-8                    [64, 128, 11, 11]         --\n",
      "│    └─Dropout: 2-9                      [64, 128, 11, 11]         --\n",
      "│    └─Conv2d: 2-10                      [64, 256, 9, 9]           295,168\n",
      "│    └─MaxPool2d: 2-11                   [64, 256, 4, 4]           --\n",
      "│    └─Dropout: 2-12                     [64, 256, 4, 4]           --\n",
      "│    └─Flatten: 2-13                     [64, 4096]                --\n",
      "│    └─Linear: 2-14                      [64, 128]                 524,416\n",
      "│    └─ReLU: 2-15                        [64, 128]                 --\n",
      "│    └─Dropout: 2-16                     [64, 128]                 --\n",
      "│    └─Linear: 2-17                      [64, 32]                  4,128\n",
      "│    └─LeakyReLU: 2-18                   [64, 32]                  --\n",
      "│    └─Dropout: 2-19                     [64, 32]                  --\n",
      "│    └─Linear: 2-20                      [64, 3]                   99\n",
      "==========================================================================================\n",
      "Total params: 917,059\n",
      "Trainable params: 917,059\n",
      "Non-trainable params: 0\n",
      "Total mult-adds (G): 7.15\n",
      "==========================================================================================\n",
      "Input size (MB): 7.99\n",
      "Forward/backward pass size (MB): 281.76\n",
      "Params size (MB): 3.67\n",
      "Estimated Total Size (MB): 293.42\n",
      "==========================================================================================\n"
     ]
    }
   ],
   "source": [
    "print(summary(net_t00, (batch_size, 3, image_size, image_size)))"
   ]
  },
  {
   "cell_type": "code",
   "execution_count": null,
   "metadata": {},
   "outputs": [
    {
     "name": "stderr",
     "output_type": "stream",
     "text": [
      "  0%|          | 0/2546 [00:00<?, ?it/s]\n"
     ]
    },
    {
     "ename": "KeyboardInterrupt",
     "evalue": "",
     "output_type": "error",
     "traceback": [
      "\u001b[0;31m---------------------------------------------------------------------------\u001b[0m",
      "\u001b[0;31mKeyboardInterrupt\u001b[0m                         Traceback (most recent call last)",
      "Cell \u001b[0;32mIn[10], line 7\u001b[0m\n\u001b[1;32m      3\u001b[0m epochs \u001b[39m=\u001b[39m \u001b[39m5\u001b[39m\n\u001b[1;32m      5\u001b[0m \u001b[39mif\u001b[39;00m \u001b[39mnot\u001b[39;00m load_t00:\n\u001b[1;32m      6\u001b[0m     \u001b[39m#net.trainloop(trainloader, optim_t00, criterion, net_t00, epochs=epochs)\u001b[39;00m\n\u001b[0;32m----> 7\u001b[0m     net\u001b[39m.\u001b[39;49mtrain_validation_loop(trainloader, testloader, optim_t00, criterion, net_t00, epochs)\n\u001b[1;32m      9\u001b[0m     \u001b[39mif\u001b[39;00m save_t00:\n\u001b[1;32m     10\u001b[0m         net\u001b[39m.\u001b[39msave_net(net_t00)\n",
      "File \u001b[0;32m~/git/Classification-of-galaxies/net.py:13\u001b[0m, in \u001b[0;36mtrain_validation_loop\u001b[0;34m(trainloader, testloader, optimizer, criterion, net, epochs)\u001b[0m\n\u001b[1;32m      9\u001b[0m training_loss \u001b[39m=\u001b[39m \u001b[39m0\u001b[39m\n\u001b[1;32m     11\u001b[0m trainloop \u001b[39m=\u001b[39m tqdm(trainloader)\n\u001b[0;32m---> 13\u001b[0m \u001b[39mfor\u001b[39;00m i, (images, labels_t01, labels_t02) \u001b[39min\u001b[39;00m \u001b[39menumerate\u001b[39m(trainloop):\n\u001b[1;32m     14\u001b[0m     optimizer\u001b[39m.\u001b[39mzero_grad() \u001b[39m#Set gradients to zero\u001b[39;00m\n\u001b[1;32m     16\u001b[0m     predictions \u001b[39m=\u001b[39m net(images)\n",
      "File \u001b[0;32m~/anaconda3/envs/class-of-galaxies/lib/python3.10/site-packages/tqdm/std.py:1195\u001b[0m, in \u001b[0;36mtqdm.__iter__\u001b[0;34m(self)\u001b[0m\n\u001b[1;32m   1192\u001b[0m time \u001b[39m=\u001b[39m \u001b[39mself\u001b[39m\u001b[39m.\u001b[39m_time\n\u001b[1;32m   1194\u001b[0m \u001b[39mtry\u001b[39;00m:\n\u001b[0;32m-> 1195\u001b[0m     \u001b[39mfor\u001b[39;00m obj \u001b[39min\u001b[39;00m iterable:\n\u001b[1;32m   1196\u001b[0m         \u001b[39myield\u001b[39;00m obj\n\u001b[1;32m   1197\u001b[0m         \u001b[39m# Update and possibly print the progressbar.\u001b[39;00m\n\u001b[1;32m   1198\u001b[0m         \u001b[39m# Note: does not call self.update(1) for speed optimisation.\u001b[39;00m\n",
      "File \u001b[0;32m~/anaconda3/envs/class-of-galaxies/lib/python3.10/site-packages/torch/utils/data/dataloader.py:628\u001b[0m, in \u001b[0;36m_BaseDataLoaderIter.__next__\u001b[0;34m(self)\u001b[0m\n\u001b[1;32m    625\u001b[0m \u001b[39mif\u001b[39;00m \u001b[39mself\u001b[39m\u001b[39m.\u001b[39m_sampler_iter \u001b[39mis\u001b[39;00m \u001b[39mNone\u001b[39;00m:\n\u001b[1;32m    626\u001b[0m     \u001b[39m# TODO(https://github.com/pytorch/pytorch/issues/76750)\u001b[39;00m\n\u001b[1;32m    627\u001b[0m     \u001b[39mself\u001b[39m\u001b[39m.\u001b[39m_reset()  \u001b[39m# type: ignore[call-arg]\u001b[39;00m\n\u001b[0;32m--> 628\u001b[0m data \u001b[39m=\u001b[39m \u001b[39mself\u001b[39;49m\u001b[39m.\u001b[39;49m_next_data()\n\u001b[1;32m    629\u001b[0m \u001b[39mself\u001b[39m\u001b[39m.\u001b[39m_num_yielded \u001b[39m+\u001b[39m\u001b[39m=\u001b[39m \u001b[39m1\u001b[39m\n\u001b[1;32m    630\u001b[0m \u001b[39mif\u001b[39;00m \u001b[39mself\u001b[39m\u001b[39m.\u001b[39m_dataset_kind \u001b[39m==\u001b[39m _DatasetKind\u001b[39m.\u001b[39mIterable \u001b[39mand\u001b[39;00m \\\n\u001b[1;32m    631\u001b[0m         \u001b[39mself\u001b[39m\u001b[39m.\u001b[39m_IterableDataset_len_called \u001b[39mis\u001b[39;00m \u001b[39mnot\u001b[39;00m \u001b[39mNone\u001b[39;00m \u001b[39mand\u001b[39;00m \\\n\u001b[1;32m    632\u001b[0m         \u001b[39mself\u001b[39m\u001b[39m.\u001b[39m_num_yielded \u001b[39m>\u001b[39m \u001b[39mself\u001b[39m\u001b[39m.\u001b[39m_IterableDataset_len_called:\n",
      "File \u001b[0;32m~/anaconda3/envs/class-of-galaxies/lib/python3.10/site-packages/torch/utils/data/dataloader.py:671\u001b[0m, in \u001b[0;36m_SingleProcessDataLoaderIter._next_data\u001b[0;34m(self)\u001b[0m\n\u001b[1;32m    669\u001b[0m \u001b[39mdef\u001b[39;00m \u001b[39m_next_data\u001b[39m(\u001b[39mself\u001b[39m):\n\u001b[1;32m    670\u001b[0m     index \u001b[39m=\u001b[39m \u001b[39mself\u001b[39m\u001b[39m.\u001b[39m_next_index()  \u001b[39m# may raise StopIteration\u001b[39;00m\n\u001b[0;32m--> 671\u001b[0m     data \u001b[39m=\u001b[39m \u001b[39mself\u001b[39;49m\u001b[39m.\u001b[39;49m_dataset_fetcher\u001b[39m.\u001b[39;49mfetch(index)  \u001b[39m# may raise StopIteration\u001b[39;00m\n\u001b[1;32m    672\u001b[0m     \u001b[39mif\u001b[39;00m \u001b[39mself\u001b[39m\u001b[39m.\u001b[39m_pin_memory:\n\u001b[1;32m    673\u001b[0m         data \u001b[39m=\u001b[39m _utils\u001b[39m.\u001b[39mpin_memory\u001b[39m.\u001b[39mpin_memory(data, \u001b[39mself\u001b[39m\u001b[39m.\u001b[39m_pin_memory_device)\n",
      "File \u001b[0;32m~/anaconda3/envs/class-of-galaxies/lib/python3.10/site-packages/torch/utils/data/_utils/fetch.py:58\u001b[0m, in \u001b[0;36m_MapDatasetFetcher.fetch\u001b[0;34m(self, possibly_batched_index)\u001b[0m\n\u001b[1;32m     56\u001b[0m         data \u001b[39m=\u001b[39m \u001b[39mself\u001b[39m\u001b[39m.\u001b[39mdataset\u001b[39m.\u001b[39m__getitems__(possibly_batched_index)\n\u001b[1;32m     57\u001b[0m     \u001b[39melse\u001b[39;00m:\n\u001b[0;32m---> 58\u001b[0m         data \u001b[39m=\u001b[39m [\u001b[39mself\u001b[39m\u001b[39m.\u001b[39mdataset[idx] \u001b[39mfor\u001b[39;00m idx \u001b[39min\u001b[39;00m possibly_batched_index]\n\u001b[1;32m     59\u001b[0m \u001b[39melse\u001b[39;00m:\n\u001b[1;32m     60\u001b[0m     data \u001b[39m=\u001b[39m \u001b[39mself\u001b[39m\u001b[39m.\u001b[39mdataset[possibly_batched_index]\n",
      "File \u001b[0;32m~/anaconda3/envs/class-of-galaxies/lib/python3.10/site-packages/torch/utils/data/_utils/fetch.py:58\u001b[0m, in \u001b[0;36m<listcomp>\u001b[0;34m(.0)\u001b[0m\n\u001b[1;32m     56\u001b[0m         data \u001b[39m=\u001b[39m \u001b[39mself\u001b[39m\u001b[39m.\u001b[39mdataset\u001b[39m.\u001b[39m__getitems__(possibly_batched_index)\n\u001b[1;32m     57\u001b[0m     \u001b[39melse\u001b[39;00m:\n\u001b[0;32m---> 58\u001b[0m         data \u001b[39m=\u001b[39m [\u001b[39mself\u001b[39;49m\u001b[39m.\u001b[39;49mdataset[idx] \u001b[39mfor\u001b[39;00m idx \u001b[39min\u001b[39;00m possibly_batched_index]\n\u001b[1;32m     59\u001b[0m \u001b[39melse\u001b[39;00m:\n\u001b[1;32m     60\u001b[0m     data \u001b[39m=\u001b[39m \u001b[39mself\u001b[39m\u001b[39m.\u001b[39mdataset[possibly_batched_index]\n",
      "File \u001b[0;32m~/anaconda3/envs/class-of-galaxies/lib/python3.10/site-packages/torch/utils/data/dataset.py:295\u001b[0m, in \u001b[0;36mSubset.__getitem__\u001b[0;34m(self, idx)\u001b[0m\n\u001b[1;32m    293\u001b[0m \u001b[39mif\u001b[39;00m \u001b[39misinstance\u001b[39m(idx, \u001b[39mlist\u001b[39m):\n\u001b[1;32m    294\u001b[0m     \u001b[39mreturn\u001b[39;00m \u001b[39mself\u001b[39m\u001b[39m.\u001b[39mdataset[[\u001b[39mself\u001b[39m\u001b[39m.\u001b[39mindices[i] \u001b[39mfor\u001b[39;00m i \u001b[39min\u001b[39;00m idx]]\n\u001b[0;32m--> 295\u001b[0m \u001b[39mreturn\u001b[39;00m \u001b[39mself\u001b[39;49m\u001b[39m.\u001b[39;49mdataset[\u001b[39mself\u001b[39;49m\u001b[39m.\u001b[39;49mindices[idx]]\n",
      "Cell \u001b[0;32mIn[3], line 43\u001b[0m, in \u001b[0;36mGZ2Dataset.__getitem__\u001b[0;34m(self, index)\u001b[0m\n\u001b[1;32m     41\u001b[0m filename \u001b[39m=\u001b[39m \u001b[39mstr\u001b[39m(\u001b[39mself\u001b[39m\u001b[39m.\u001b[39mmaps[\u001b[39mself\u001b[39m\u001b[39m.\u001b[39mmaps[\u001b[39m'\u001b[39m\u001b[39mobjid\u001b[39m\u001b[39m'\u001b[39m] \u001b[39m==\u001b[39m dr7objid][\u001b[39m'\u001b[39m\u001b[39masset_id\u001b[39m\u001b[39m'\u001b[39m]\u001b[39m.\u001b[39mitem()) \u001b[39m+\u001b[39m \u001b[39m'\u001b[39m\u001b[39m.jpg\u001b[39m\u001b[39m'\u001b[39m\n\u001b[1;32m     42\u001b[0m image_path \u001b[39m=\u001b[39m os\u001b[39m.\u001b[39mpath\u001b[39m.\u001b[39mjoin(\u001b[39mself\u001b[39m\u001b[39m.\u001b[39mroot_dir, filename)\n\u001b[0;32m---> 43\u001b[0m image \u001b[39m=\u001b[39m io\u001b[39m.\u001b[39;49mimread(image_path) \u001b[39m# Load image as numpy tensor with normalized color values\u001b[39;00m\n\u001b[1;32m     45\u001b[0m \u001b[39m# pandas Dataframe containing all the datapoints for the given dr7objid\u001b[39;00m\n\u001b[1;32m     46\u001b[0m image_data \u001b[39m=\u001b[39m \u001b[39mself\u001b[39m\u001b[39m.\u001b[39mdata\u001b[39m.\u001b[39mloc[\u001b[39mself\u001b[39m\u001b[39m.\u001b[39mdata[\u001b[39m'\u001b[39m\u001b[39mdr7objid\u001b[39m\u001b[39m'\u001b[39m] \u001b[39m==\u001b[39m dr7objid]\n",
      "File \u001b[0;32m~/anaconda3/envs/class-of-galaxies/lib/python3.10/site-packages/skimage/io/_io.py:53\u001b[0m, in \u001b[0;36mimread\u001b[0;34m(fname, as_gray, plugin, **plugin_args)\u001b[0m\n\u001b[1;32m     50\u001b[0m         plugin \u001b[39m=\u001b[39m \u001b[39m'\u001b[39m\u001b[39mtifffile\u001b[39m\u001b[39m'\u001b[39m\n\u001b[1;32m     52\u001b[0m \u001b[39mwith\u001b[39;00m file_or_url_context(fname) \u001b[39mas\u001b[39;00m fname:\n\u001b[0;32m---> 53\u001b[0m     img \u001b[39m=\u001b[39m call_plugin(\u001b[39m'\u001b[39;49m\u001b[39mimread\u001b[39;49m\u001b[39m'\u001b[39;49m, fname, plugin\u001b[39m=\u001b[39;49mplugin, \u001b[39m*\u001b[39;49m\u001b[39m*\u001b[39;49mplugin_args)\n\u001b[1;32m     55\u001b[0m \u001b[39mif\u001b[39;00m \u001b[39mnot\u001b[39;00m \u001b[39mhasattr\u001b[39m(img, \u001b[39m'\u001b[39m\u001b[39mndim\u001b[39m\u001b[39m'\u001b[39m):\n\u001b[1;32m     56\u001b[0m     \u001b[39mreturn\u001b[39;00m img\n",
      "File \u001b[0;32m~/anaconda3/envs/class-of-galaxies/lib/python3.10/site-packages/skimage/io/manage_plugins.py:207\u001b[0m, in \u001b[0;36mcall_plugin\u001b[0;34m(kind, *args, **kwargs)\u001b[0m\n\u001b[1;32m    203\u001b[0m     \u001b[39mexcept\u001b[39;00m \u001b[39mIndexError\u001b[39;00m:\n\u001b[1;32m    204\u001b[0m         \u001b[39mraise\u001b[39;00m \u001b[39mRuntimeError\u001b[39;00m(\u001b[39m'\u001b[39m\u001b[39mCould not find the plugin \u001b[39m\u001b[39m\"\u001b[39m\u001b[39m%s\u001b[39;00m\u001b[39m\"\u001b[39m\u001b[39m for \u001b[39m\u001b[39m%s\u001b[39;00m\u001b[39m.\u001b[39m\u001b[39m'\u001b[39m \u001b[39m%\u001b[39m\n\u001b[1;32m    205\u001b[0m                            (plugin, kind))\n\u001b[0;32m--> 207\u001b[0m \u001b[39mreturn\u001b[39;00m func(\u001b[39m*\u001b[39;49margs, \u001b[39m*\u001b[39;49m\u001b[39m*\u001b[39;49mkwargs)\n",
      "File \u001b[0;32m~/anaconda3/envs/class-of-galaxies/lib/python3.10/site-packages/skimage/io/_plugins/imageio_plugin.py:15\u001b[0m, in \u001b[0;36mimread\u001b[0;34m(*args, **kwargs)\u001b[0m\n\u001b[1;32m     13\u001b[0m \u001b[39m@wraps\u001b[39m(imageio_imread)\n\u001b[1;32m     14\u001b[0m \u001b[39mdef\u001b[39;00m \u001b[39mimread\u001b[39m(\u001b[39m*\u001b[39margs, \u001b[39m*\u001b[39m\u001b[39m*\u001b[39mkwargs):\n\u001b[0;32m---> 15\u001b[0m     \u001b[39mreturn\u001b[39;00m np\u001b[39m.\u001b[39masarray(imageio_imread(\u001b[39m*\u001b[39;49margs, \u001b[39m*\u001b[39;49m\u001b[39m*\u001b[39;49mkwargs))\n",
      "File \u001b[0;32m~/anaconda3/envs/class-of-galaxies/lib/python3.10/site-packages/imageio/v2.py:200\u001b[0m, in \u001b[0;36mimread\u001b[0;34m(uri, format, **kwargs)\u001b[0m\n\u001b[1;32m    197\u001b[0m imopen_args \u001b[39m=\u001b[39m decypher_format_arg(\u001b[39mformat\u001b[39m)\n\u001b[1;32m    198\u001b[0m imopen_args[\u001b[39m\"\u001b[39m\u001b[39mlegacy_mode\u001b[39m\u001b[39m\"\u001b[39m] \u001b[39m=\u001b[39m \u001b[39mTrue\u001b[39;00m\n\u001b[0;32m--> 200\u001b[0m \u001b[39mwith\u001b[39;00m imopen(uri, \u001b[39m\"\u001b[39;49m\u001b[39mri\u001b[39;49m\u001b[39m\"\u001b[39;49m, \u001b[39m*\u001b[39;49m\u001b[39m*\u001b[39;49mimopen_args) \u001b[39mas\u001b[39;00m file:\n\u001b[1;32m    201\u001b[0m     \u001b[39mreturn\u001b[39;00m file\u001b[39m.\u001b[39mread(index\u001b[39m=\u001b[39m\u001b[39m0\u001b[39m, \u001b[39m*\u001b[39m\u001b[39m*\u001b[39mkwargs)\n",
      "File \u001b[0;32m~/anaconda3/envs/class-of-galaxies/lib/python3.10/site-packages/imageio/core/imopen.py:213\u001b[0m, in \u001b[0;36mimopen\u001b[0;34m(uri, io_mode, plugin, extension, format_hint, legacy_mode, **kwargs)\u001b[0m\n\u001b[1;32m    210\u001b[0m     \u001b[39mcontinue\u001b[39;00m\n\u001b[1;32m    212\u001b[0m \u001b[39mtry\u001b[39;00m:\n\u001b[0;32m--> 213\u001b[0m     plugin_instance \u001b[39m=\u001b[39m candidate_plugin(request, \u001b[39m*\u001b[39;49m\u001b[39m*\u001b[39;49mkwargs)\n\u001b[1;32m    214\u001b[0m \u001b[39mexcept\u001b[39;00m InitializationError:\n\u001b[1;32m    215\u001b[0m     \u001b[39m# file extension doesn't match file type\u001b[39;00m\n\u001b[1;32m    216\u001b[0m     \u001b[39mcontinue\u001b[39;00m\n",
      "File \u001b[0;32m~/anaconda3/envs/class-of-galaxies/lib/python3.10/site-packages/imageio/config/plugins.py:107\u001b[0m, in \u001b[0;36mPluginConfig.plugin_class.<locals>.partial_legacy_plugin\u001b[0;34m(request)\u001b[0m\n\u001b[1;32m    106\u001b[0m \u001b[39mdef\u001b[39;00m \u001b[39mpartial_legacy_plugin\u001b[39m(request):\n\u001b[0;32m--> 107\u001b[0m     \u001b[39mreturn\u001b[39;00m LegacyPlugin(request, legacy_plugin)\n",
      "File \u001b[0;32m~/anaconda3/envs/class-of-galaxies/lib/python3.10/site-packages/imageio/core/legacy_plugin_wrapper.py:78\u001b[0m, in \u001b[0;36mLegacyPlugin.__init__\u001b[0;34m(self, request, legacy_plugin)\u001b[0m\n\u001b[1;32m     72\u001b[0m source \u001b[39m=\u001b[39m (\n\u001b[1;32m     73\u001b[0m     \u001b[39m\"\u001b[39m\u001b[39m<bytes>\u001b[39m\u001b[39m\"\u001b[39m\n\u001b[1;32m     74\u001b[0m     \u001b[39mif\u001b[39;00m \u001b[39misinstance\u001b[39m(\u001b[39mself\u001b[39m\u001b[39m.\u001b[39m_request\u001b[39m.\u001b[39mraw_uri, \u001b[39mbytes\u001b[39m)\n\u001b[1;32m     75\u001b[0m     \u001b[39melse\u001b[39;00m \u001b[39mself\u001b[39m\u001b[39m.\u001b[39m_request\u001b[39m.\u001b[39mraw_uri\n\u001b[1;32m     76\u001b[0m )\n\u001b[1;32m     77\u001b[0m \u001b[39mif\u001b[39;00m \u001b[39mself\u001b[39m\u001b[39m.\u001b[39m_request\u001b[39m.\u001b[39mmode\u001b[39m.\u001b[39mio_mode \u001b[39m==\u001b[39m IOMode\u001b[39m.\u001b[39mread:\n\u001b[0;32m---> 78\u001b[0m     \u001b[39mif\u001b[39;00m \u001b[39mnot\u001b[39;00m \u001b[39mself\u001b[39;49m\u001b[39m.\u001b[39;49m_format\u001b[39m.\u001b[39;49mcan_read(request):\n\u001b[1;32m     79\u001b[0m         \u001b[39mraise\u001b[39;00m InitializationError(\n\u001b[1;32m     80\u001b[0m             \u001b[39mf\u001b[39m\u001b[39m\"\u001b[39m\u001b[39m`\u001b[39m\u001b[39m{\u001b[39;00m\u001b[39mself\u001b[39m\u001b[39m.\u001b[39m_format\u001b[39m.\u001b[39mname\u001b[39m}\u001b[39;00m\u001b[39m`\u001b[39m\u001b[39m\"\u001b[39m \u001b[39mf\u001b[39m\u001b[39m\"\u001b[39m\u001b[39m can not read `\u001b[39m\u001b[39m{\u001b[39;00msource\u001b[39m}\u001b[39;00m\u001b[39m`.\u001b[39m\u001b[39m\"\u001b[39m\n\u001b[1;32m     81\u001b[0m         )\n\u001b[1;32m     82\u001b[0m \u001b[39melse\u001b[39;00m:\n",
      "File \u001b[0;32m~/anaconda3/envs/class-of-galaxies/lib/python3.10/site-packages/imageio/core/format.py:241\u001b[0m, in \u001b[0;36mFormat.can_read\u001b[0;34m(self, request)\u001b[0m\n\u001b[1;32m    236\u001b[0m \u001b[39mdef\u001b[39;00m \u001b[39mcan_read\u001b[39m(\u001b[39mself\u001b[39m, request):\n\u001b[1;32m    237\u001b[0m \u001b[39m    \u001b[39m\u001b[39m\"\"\"can_read(request)\u001b[39;00m\n\u001b[1;32m    238\u001b[0m \n\u001b[1;32m    239\u001b[0m \u001b[39m    Get whether this format can read data from the specified uri.\u001b[39;00m\n\u001b[1;32m    240\u001b[0m \u001b[39m    \"\"\"\u001b[39;00m\n\u001b[0;32m--> 241\u001b[0m     \u001b[39mreturn\u001b[39;00m \u001b[39mself\u001b[39;49m\u001b[39m.\u001b[39;49m_can_read(request)\n",
      "File \u001b[0;32m~/anaconda3/envs/class-of-galaxies/lib/python3.10/site-packages/imageio/plugins/pillow_legacy.py:264\u001b[0m, in \u001b[0;36mPillowFormat._can_read\u001b[0;34m(self, request)\u001b[0m\n\u001b[1;32m    263\u001b[0m \u001b[39mdef\u001b[39;00m \u001b[39m_can_read\u001b[39m(\u001b[39mself\u001b[39m, request):\n\u001b[0;32m--> 264\u001b[0m     Image \u001b[39m=\u001b[39m \u001b[39mself\u001b[39;49m\u001b[39m.\u001b[39;49m_init_pillow()\n\u001b[1;32m    265\u001b[0m     \u001b[39mif\u001b[39;00m request\u001b[39m.\u001b[39mmode[\u001b[39m1\u001b[39m] \u001b[39min\u001b[39;00m (\u001b[39mself\u001b[39m\u001b[39m.\u001b[39mmodes \u001b[39m+\u001b[39m \u001b[39m\"\u001b[39m\u001b[39m?\u001b[39m\u001b[39m\"\u001b[39m):\n\u001b[1;32m    266\u001b[0m         \u001b[39mif\u001b[39;00m \u001b[39mself\u001b[39m\u001b[39m.\u001b[39mplugin_id \u001b[39min\u001b[39;00m Image\u001b[39m.\u001b[39mOPEN:\n",
      "File \u001b[0;32m~/anaconda3/envs/class-of-galaxies/lib/python3.10/site-packages/imageio/plugins/pillow_legacy.py:258\u001b[0m, in \u001b[0;36mPillowFormat._init_pillow\u001b[0;34m(self)\u001b[0m\n\u001b[1;32m    255\u001b[0m     Image \u001b[39m=\u001b[39m \u001b[39mself\u001b[39m\u001b[39m.\u001b[39m_Image\n\u001b[1;32m    257\u001b[0m \u001b[39mif\u001b[39;00m \u001b[39mself\u001b[39m\u001b[39m.\u001b[39mplugin_id \u001b[39min\u001b[39;00m (\u001b[39m\"\u001b[39m\u001b[39mPNG\u001b[39m\u001b[39m\"\u001b[39m, \u001b[39m\"\u001b[39m\u001b[39mJPEG\u001b[39m\u001b[39m\"\u001b[39m, \u001b[39m\"\u001b[39m\u001b[39mBMP\u001b[39m\u001b[39m\"\u001b[39m, \u001b[39m\"\u001b[39m\u001b[39mGIF\u001b[39m\u001b[39m\"\u001b[39m, \u001b[39m\"\u001b[39m\u001b[39mPPM\u001b[39m\u001b[39m\"\u001b[39m):\n\u001b[0;32m--> 258\u001b[0m     Image\u001b[39m.\u001b[39;49mpreinit()\n\u001b[1;32m    259\u001b[0m \u001b[39melse\u001b[39;00m:\n\u001b[1;32m    260\u001b[0m     Image\u001b[39m.\u001b[39minit()\n",
      "File \u001b[0;32m~/anaconda3/envs/class-of-galaxies/lib/python3.10/site-packages/PIL/Image.py:319\u001b[0m, in \u001b[0;36mpreinit\u001b[0;34m()\u001b[0m\n\u001b[1;32m    316\u001b[0m     \u001b[39mreturn\u001b[39;00m\n\u001b[1;32m    318\u001b[0m \u001b[39mtry\u001b[39;00m:\n\u001b[0;32m--> 319\u001b[0m     \u001b[39mfrom\u001b[39;00m \u001b[39m.\u001b[39;00m \u001b[39mimport\u001b[39;00m BmpImagePlugin\n\u001b[1;32m    321\u001b[0m     \u001b[39massert\u001b[39;00m BmpImagePlugin\n\u001b[1;32m    322\u001b[0m \u001b[39mexcept\u001b[39;00m \u001b[39mImportError\u001b[39;00m:\n",
      "File \u001b[0;32m<frozen importlib._bootstrap>:1027\u001b[0m, in \u001b[0;36m_find_and_load\u001b[0;34m(name, import_)\u001b[0m\n",
      "File \u001b[0;32m<frozen importlib._bootstrap>:1006\u001b[0m, in \u001b[0;36m_find_and_load_unlocked\u001b[0;34m(name, import_)\u001b[0m\n",
      "File \u001b[0;32m<frozen importlib._bootstrap>:688\u001b[0m, in \u001b[0;36m_load_unlocked\u001b[0;34m(spec)\u001b[0m\n",
      "File \u001b[0;32m<frozen importlib._bootstrap_external>:879\u001b[0m, in \u001b[0;36mexec_module\u001b[0;34m(self, module)\u001b[0m\n",
      "File \u001b[0;32m<frozen importlib._bootstrap_external>:975\u001b[0m, in \u001b[0;36mget_code\u001b[0;34m(self, fullname)\u001b[0m\n",
      "File \u001b[0;32m<frozen importlib._bootstrap_external>:1074\u001b[0m, in \u001b[0;36mget_data\u001b[0;34m(self, path)\u001b[0m\n",
      "\u001b[0;31mKeyboardInterrupt\u001b[0m: "
     ]
    }
   ],
   "source": [
    "import net\n",
    "\n",
    "epochs = 5\n",
    "\n",
    "if not load_t00:\n",
    "    #net.trainloop(trainloader, optim_t00, criterion, net_t00, epochs=epochs)\n",
    "    net.train_validation_loop(trainloader, testloader, optim_t00, criterion, net_t00, epochs)\n",
    "\n",
    "    if save_t00:\n",
    "        net.save_net(net_t00)\n",
    "else:\n",
    "    net_t00 = net.load_net(net_t00, device=device)\n",
    "\n",
    "net.validation_loop(testloader, criterion, net_t00)"
   ]
  },
  {
   "cell_type": "code",
   "execution_count": null,
   "metadata": {},
   "outputs": [
    {
     "name": "stderr",
     "output_type": "stream",
     "text": [
      "> Validation on test data : 100%|██████████| 637/637 [05:00<00:00,  2.12it/s, acc=0.816, loss=0.395]\n"
     ]
    }
   ],
   "source": [
    "net.validation_loop(testloader, criterion, net_t00)"
   ]
  },
  {
   "cell_type": "code",
   "execution_count": null,
   "metadata": {},
   "outputs": [
    {
     "data": {
      "text/plain": [
       "'epochs = 3\\n\\nif not load_t01:\\n    net.trainloop(trainloader, optim_t01, criterion, net_t01, epochs=epochs)\\n\\n    if save_t01:\\n        net.save_net(net_t01)\\nelse:\\n    net_t01 = net.load_net(net_t01, device=device)\\n\\nnet.validation_loop(testloader, criterion, net_t01)'"
      ]
     },
     "execution_count": 66,
     "metadata": {},
     "output_type": "execute_result"
    }
   ],
   "source": [
    "\"\"\"epochs = 3\n",
    "\n",
    "if not load_t01:\n",
    "    net.trainloop(trainloader, optim_t01, criterion, net_t01, epochs=epochs)\n",
    "\n",
    "    if save_t01:\n",
    "        net.save_net(net_t01)\n",
    "else:\n",
    "    net_t01 = net.load_net(net_t01, device=device)\n",
    "\n",
    "net.validation_loop(testloader, criterion, net_t01)\"\"\""
   ]
  },
  {
   "cell_type": "code",
   "execution_count": null,
   "metadata": {},
   "outputs": [
    {
     "name": "stdout",
     "output_type": "stream",
     "text": [
      "40727\n",
      "Guess: featured\n",
      "Label: featured\n"
     ]
    },
    {
     "data": {
      "image/png": "[encoded data removed]",
      "text/plain": [
       "<Figure size 640x480 with 1 Axes>"
      ]
     },
     "metadata": {},
     "output_type": "display_data"
    }
   ],
   "source": [
    "entry = next(iter(testloader))\n",
    "image = entry[0]\n",
    "label = entry[1:]\n",
    "\n",
    "print(len(testset))\n",
    "\n",
    "prediction_t00 = net_t00(image.reshape(batch_size,3,image_size,image_size))\n",
    "#prediction_t01 = net_t01(image.reshape(batch_size,3,image_size,image_size))\n",
    "\n",
    "plt.imshow(image[0].permute(1,2,0).cpu().numpy())\n",
    "\n",
    "#print(prediction.topk(1,dim=1)[1][0])\n",
    "\n",
    "print('Guess: ' + ['smooth', 'featured', 'star'][prediction_t00.topk(1,dim=1)[1][0].item()])\n",
    "print('Label: ' + ['smooth', 'featured', 'star'][label[0][0].item()])\n",
    "#if label[0][0].item() == 1:#prediction_t00.topk(1,dim=1)[1][0].item() == 1:\n",
    "#    print('> edgeon? G: ' + ['yes', 'no'][prediction_t01.topk(1,dim=1)[1][0]] + ', L: ' + ['yes', 'no'][label[0][1].item()])\n",
    "#print('Label percentage: ' + str(label_split[0].tolist()))"
   ]
  }
 ],
 "metadata": {
  "kernelspec": {
   "display_name": "class-of-galaxies",
   "language": "python",
   "name": "python3"
  },
  "language_info": {
   "codemirror_mode": {
    "name": "ipython",
    "version": 3
   },
   "file_extension": ".py",
   "mimetype": "text/x-python",
   "name": "python",
   "nbconvert_exporter": "python",
   "pygments_lexer": "ipython3",
   "version": "3.10.8"
  },
  "orig_nbformat": 4,
  "vscode": {
   "interpreter": {
    "hash": "dc74a37fd9b5dae04537e23c756462ec4e88f32b6546978c8f3b7d587dee2175"
   }
  }
 },
 "nbformat": 4,
 "nbformat_minor": 2
}
