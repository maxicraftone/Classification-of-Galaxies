{
 "cells": [
  {
   "cell_type": "code",
   "execution_count": 120,
   "metadata": {},
   "outputs": [],
   "source": [
    "### Hyperparams\n",
    "batch_size = 1"
   ]
  },
  {
   "cell_type": "code",
   "execution_count": 121,
   "metadata": {},
   "outputs": [],
   "source": [
    "from torch.utils.data import Dataset\n",
    "import pandas as pd\n",
    "from skimage import io\n",
    "import os\n",
    "\n",
    "class GZ2Dataset(Dataset):\n",
    "    def __init__(self, csv_file_maps, csv_file_data, root_dir, transform=None):\n",
    "        self.maps = pd.read_csv(csv_file_maps)\n",
    "        self.data = pd.read_csv(csv_file_data)\n",
    "        self.root_dir = root_dir\n",
    "        self.transform = transform\n",
    "\n",
    "        self.files = os.listdir(root_dir)\n",
    "    \n",
    "    def __len__(self):\n",
    "        return len(self.files)\n",
    "    \n",
    "    def __getitem__(self, index):\n",
    "        img_path = os.path.join(self.root_dir, self.files[index])#str(self.maps.iloc[index,2]) + '.jpg')\n",
    "        image = io.imread(img_path)\n",
    "        \n",
    "        dr7objid = self.maps.loc[self.maps['asset_id'] == int(self.files[index][:-4])]['objid'].values[0]\n",
    "\n",
    "        image_data = self.data.loc[self.data['dr7objid'] == dr7objid]\n",
    "\n",
    "        if len(image_data) == 0:\n",
    "            print('Shit', dr7objid)\n",
    "\n",
    "        if self.transform:\n",
    "            image = self.transform(image)\n",
    "\n",
    "        output = [image]\n",
    "        output.extend(image_data.values[0].tolist())\n",
    "\n",
    "        return tuple(output)"
   ]
  },
  {
   "cell_type": "code",
   "execution_count": 122,
   "metadata": {},
   "outputs": [],
   "source": [
    "from torchvision import transforms\n",
    "from torch.utils.data import random_split\n",
    "\n",
    "dataset = GZ2Dataset(csv_file_maps='gz2_filename_mapping.csv', csv_file_data='zoo2MainSpecz.csv', root_dir='images_gz2/images/', transform=transforms.ToTensor())\n",
    "\n",
    "trainset, testset = random_split(dataset, [round(0.8*len(dataset)), round(0.2*len(dataset))])"
   ]
  },
  {
   "cell_type": "code",
   "execution_count": 123,
   "metadata": {},
   "outputs": [],
   "source": [
    "from torch.utils.data import DataLoader\n",
    "\n",
    "trainloader = DataLoader(trainset, batch_size=batch_size, shuffle=True)\n",
    "testloader = DataLoader(testset, batch_size=batch_size, shuffle=True)"
   ]
  },
  {
   "cell_type": "code",
   "execution_count": 124,
   "metadata": {},
   "outputs": [
    {
     "name": "stdout",
     "output_type": "stream",
     "text": [
      "[tensor([[[[0.0431, 0.0353, 0.0235,  ..., 0.0235, 0.0078, 0.0000],\n",
      "          [0.0588, 0.0510, 0.0392,  ..., 0.0196, 0.0039, 0.0000],\n",
      "          [0.0706, 0.0627, 0.0471,  ..., 0.0078, 0.0039, 0.0000],\n",
      "          ...,\n",
      "          [0.0549, 0.0510, 0.0431,  ..., 0.0000, 0.0000, 0.0039],\n",
      "          [0.0431, 0.0392, 0.0314,  ..., 0.0000, 0.0000, 0.0039],\n",
      "          [0.0392, 0.0353, 0.0275,  ..., 0.0000, 0.0000, 0.0039]],\n",
      "\n",
      "         [[0.0275, 0.0196, 0.0078,  ..., 0.0314, 0.0157, 0.0039],\n",
      "          [0.0431, 0.0353, 0.0235,  ..., 0.0275, 0.0118, 0.0039],\n",
      "          [0.0667, 0.0588, 0.0431,  ..., 0.0157, 0.0118, 0.0078],\n",
      "          ...,\n",
      "          [0.0627, 0.0588, 0.0510,  ..., 0.0000, 0.0000, 0.0039],\n",
      "          [0.0510, 0.0471, 0.0392,  ..., 0.0000, 0.0000, 0.0039],\n",
      "          [0.0471, 0.0431, 0.0353,  ..., 0.0000, 0.0000, 0.0039]],\n",
      "\n",
      "         [[0.0157, 0.0078, 0.0000,  ..., 0.0196, 0.0039, 0.0000],\n",
      "          [0.0314, 0.0235, 0.0118,  ..., 0.0157, 0.0000, 0.0000],\n",
      "          [0.0510, 0.0431, 0.0275,  ..., 0.0039, 0.0000, 0.0000],\n",
      "          ...,\n",
      "          [0.0431, 0.0392, 0.0314,  ..., 0.0000, 0.0000, 0.0000],\n",
      "          [0.0314, 0.0275, 0.0196,  ..., 0.0000, 0.0000, 0.0000],\n",
      "          [0.0275, 0.0235, 0.0157,  ..., 0.0000, 0.0000, 0.0000]]]]), tensor([2.0120e+18], dtype=torch.float64), tensor([1.2377e+18], dtype=torch.float64), tensor([587737808502980900]), tensor([140.9508], dtype=torch.float64), tensor([62.0459], dtype=torch.float64), ('09:23:48.18',), ('+62:02:45.4',), ('original',), ('Ei',), tensor([47]), tensor([139]), tensor([45]), tensor([45.], dtype=torch.float64), tensor([0.9570], dtype=torch.float64), tensor([0.9760], dtype=torch.float64), tensor([0.9720], dtype=torch.float64), tensor([1]), tensor([0]), tensor([0.], dtype=torch.float64), tensor([0.], dtype=torch.float64), tensor([0.], dtype=torch.float64), tensor([0.], dtype=torch.float64), tensor([0]), tensor([2]), tensor([1.0930], dtype=torch.float64), tensor([0.0430], dtype=torch.float64), tensor([0.0240], dtype=torch.float64), tensor([0.0280], dtype=torch.float64), tensor([0]), tensor([0]), tensor([0.], dtype=torch.float64), tensor([0.], dtype=torch.float64), tensor([0.], dtype=torch.float64), tensor([0.], dtype=torch.float64), tensor([0]), tensor([0]), tensor([0.], dtype=torch.float64), tensor([0.], dtype=torch.float64), tensor([0.], dtype=torch.float64), tensor([0.], dtype=torch.float64), tensor([0]), tensor([0]), tensor([0.], dtype=torch.float64), tensor([0.], dtype=torch.float64), tensor([0.], dtype=torch.float64), tensor([0.], dtype=torch.float64), tensor([0]), tensor([0]), tensor([0.], dtype=torch.float64), tensor([0.], dtype=torch.float64), tensor([0.], dtype=torch.float64), tensor([0.], dtype=torch.float64), tensor([0]), tensor([0]), tensor([0.], dtype=torch.float64), tensor([0.], dtype=torch.float64), tensor([0.], dtype=torch.float64), tensor([0.], dtype=torch.float64), tensor([0]), tensor([0]), tensor([0.], dtype=torch.float64), tensor([0.], dtype=torch.float64), tensor([0.], dtype=torch.float64), tensor([0.], dtype=torch.float64), tensor([0]), tensor([0]), tensor([0.], dtype=torch.float64), tensor([0.], dtype=torch.float64), tensor([0.], dtype=torch.float64), tensor([0.], dtype=torch.float64), tensor([0]), tensor([0]), tensor([0.], dtype=torch.float64), tensor([0.], dtype=torch.float64), tensor([0.], dtype=torch.float64), tensor([0.], dtype=torch.float64), tensor([0]), tensor([0]), tensor([0.], dtype=torch.float64), tensor([0.], dtype=torch.float64), tensor([0.], dtype=torch.float64), tensor([0.], dtype=torch.float64), tensor([0]), tensor([0]), tensor([0.], dtype=torch.float64), tensor([0.], dtype=torch.float64), tensor([0.], dtype=torch.float64), tensor([0.], dtype=torch.float64), tensor([0]), tensor([2]), tensor([2.], dtype=torch.float64), tensor([0.0440], dtype=torch.float64), tensor([0.0440], dtype=torch.float64), tensor([0.0532], dtype=torch.float64), tensor([0]), tensor([43]), tensor([43.], dtype=torch.float64), tensor([0.9560], dtype=torch.float64), tensor([0.9560], dtype=torch.float64), tensor([0.9368], dtype=torch.float64), tensor([1]), tensor([7]), tensor([7.], dtype=torch.float64), tensor([0.1560], dtype=torch.float64), tensor([0.1560], dtype=torch.float64), tensor([0.1225], dtype=torch.float64), tensor([0]), tensor([37]), tensor([37.], dtype=torch.float64), tensor([0.8220], dtype=torch.float64), tensor([0.8220], dtype=torch.float64), tensor([0.8285], dtype=torch.float64), tensor([1]), tensor([1]), tensor([1.], dtype=torch.float64), tensor([0.0220], dtype=torch.float64), tensor([0.0220], dtype=torch.float64), tensor([0.0223], dtype=torch.float64), tensor([0]), tensor([1]), tensor([1.], dtype=torch.float64), tensor([0.5000], dtype=torch.float64), tensor([0.5000], dtype=torch.float64), tensor([0.5000], dtype=torch.float64), tensor([0]), tensor([0]), tensor([0.], dtype=torch.float64), tensor([0.], dtype=torch.float64), tensor([0.], dtype=torch.float64), tensor([0.], dtype=torch.float64), tensor([0]), tensor([0]), tensor([0.], dtype=torch.float64), tensor([0.], dtype=torch.float64), tensor([0.], dtype=torch.float64), tensor([0.], dtype=torch.float64), tensor([0]), tensor([0]), tensor([0.], dtype=torch.float64), tensor([0.], dtype=torch.float64), tensor([0.], dtype=torch.float64), tensor([0.], dtype=torch.float64), tensor([0]), tensor([0]), tensor([0.], dtype=torch.float64), tensor([0.], dtype=torch.float64), tensor([0.], dtype=torch.float64), tensor([0.], dtype=torch.float64), tensor([0]), tensor([1]), tensor([1.], dtype=torch.float64), tensor([0.5000], dtype=torch.float64), tensor([0.5000], dtype=torch.float64), tensor([0.5000], dtype=torch.float64), tensor([0]), tensor([0]), tensor([0.], dtype=torch.float64), tensor([0.], dtype=torch.float64), tensor([0.], dtype=torch.float64), tensor([0.], dtype=torch.float64), tensor([0]), tensor([0]), tensor([0.], dtype=torch.float64), tensor([0.], dtype=torch.float64), tensor([0.], dtype=torch.float64), tensor([0.], dtype=torch.float64), tensor([0]), tensor([0]), tensor([0.], dtype=torch.float64), tensor([0.], dtype=torch.float64), tensor([0.], dtype=torch.float64), tensor([0.], dtype=torch.float64), tensor([0]), tensor([0]), tensor([0.], dtype=torch.float64), tensor([0.], dtype=torch.float64), tensor([0.], dtype=torch.float64), tensor([0.], dtype=torch.float64), tensor([0]), tensor([0]), tensor([0.], dtype=torch.float64), tensor([0.], dtype=torch.float64), tensor([0.], dtype=torch.float64), tensor([0.], dtype=torch.float64), tensor([0]), tensor([0]), tensor([0.], dtype=torch.float64), tensor([0.], dtype=torch.float64), tensor([0.], dtype=torch.float64), tensor([0.], dtype=torch.float64), tensor([0]), tensor([0]), tensor([0.], dtype=torch.float64), tensor([0.], dtype=torch.float64), tensor([0.], dtype=torch.float64), tensor([0.], dtype=torch.float64), tensor([0]), tensor([0]), tensor([0.], dtype=torch.float64), tensor([0.], dtype=torch.float64), tensor([0.], dtype=torch.float64), tensor([0.], dtype=torch.float64), tensor([0]), tensor([0]), tensor([0.], dtype=torch.float64), tensor([0.], dtype=torch.float64), tensor([0.], dtype=torch.float64), tensor([0.], dtype=torch.float64), tensor([0]), tensor([0]), tensor([0.], dtype=torch.float64), tensor([0.], dtype=torch.float64), tensor([0.], dtype=torch.float64), tensor([0.], dtype=torch.float64), tensor([0]), tensor([0]), tensor([0.], dtype=torch.float64), tensor([0.], dtype=torch.float64), tensor([0.], dtype=torch.float64), tensor([0.], dtype=torch.float64), tensor([0]), tensor([0]), tensor([0.], dtype=torch.float64), tensor([0.], dtype=torch.float64), tensor([0.], dtype=torch.float64), tensor([0.], dtype=torch.float64), tensor([0]), tensor([0]), tensor([0.], dtype=torch.float64), tensor([0.], dtype=torch.float64), tensor([0.], dtype=torch.float64), tensor([0.], dtype=torch.float64), tensor([0])]\n"
     ]
    }
   ],
   "source": [
    "element = next(iter(trainloader))\n",
    "print(element)"
   ]
  }
 ],
 "metadata": {
  "kernelspec": {
   "display_name": "class-of-galaxies",
   "language": "python",
   "name": "python3"
  },
  "language_info": {
   "codemirror_mode": {
    "name": "ipython",
    "version": 3
   },
   "file_extension": ".py",
   "mimetype": "text/x-python",
   "name": "python",
   "nbconvert_exporter": "python",
   "pygments_lexer": "ipython3",
   "version": "3.10.8"
  },
  "orig_nbformat": 4,
  "vscode": {
   "interpreter": {
    "hash": "dc74a37fd9b5dae04537e23c756462ec4e88f32b6546978c8f3b7d587dee2175"
   }
  }
 },
 "nbformat": 4,
 "nbformat_minor": 2
}
