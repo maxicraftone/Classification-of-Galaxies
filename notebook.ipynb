{
 "cells": [
  {
   "cell_type": "code",
   "execution_count": 116,
   "metadata": {},
   "outputs": [],
   "source": [
    "from torchvision import transforms\n",
    "from torch.utils.data import random_split\n",
    "from torch.utils.data import Dataset\n",
    "from torch.utils.data import DataLoader\n",
    "\n",
    "from torch import nn\n",
    "import torch.nn.functional as F\n",
    "import torch\n",
    "from torch.optim import Adam\n",
    "\n",
    "from torch import cuda\n",
    "\n",
    "import matplotlib.pyplot as plt\n",
    "import pandas as pd\n",
    "from skimage import io\n",
    "from tqdm import tqdm\n",
    "import os"
   ]
  },
  {
   "cell_type": "code",
   "execution_count": 117,
   "metadata": {},
   "outputs": [],
   "source": [
    "### Parameters\n",
    "batch_size = 64\n",
    "crop_size = 256\n",
    "image_size = 102\n",
    "\n",
    "save_t01 = False\n",
    "load_t01 = True\n",
    "\n",
    "save_t02 = False\n",
    "load_t02 = False\n",
    "\n",
    "if cuda.is_available():\n",
    "    device = 'cuda'\n",
    "else:\n",
    "    device = 'cpu'\n",
    "\n",
    "### Hyperparams\n",
    "learning_rate = 0.002\n",
    "betas = (0.9, 0.999)"
   ]
  },
  {
   "cell_type": "code",
   "execution_count": 118,
   "metadata": {},
   "outputs": [],
   "source": [
    "class GZ2Dataset(Dataset):\n",
    "    def __init__(self, csv_file_maps: str, csv_file_data: str, root_dir: str, transform = None) -> None:\n",
    "        \"\"\"\n",
    "        Initializes the dataset.\n",
    "\n",
    "        Parameters:\n",
    "            csv_file_maps (str): Name of *.csv file that contains the filename to id mapping for the images\n",
    "            csv_file_data (str): Name of *.csv file that contains the labeled data for every id\n",
    "            root_dir (str): Directory containing all the images\n",
    "            transform (class from torchvision.transforms): Transform to be used on the image data\n",
    "        \"\"\"\n",
    "        self.maps = pd.read_csv(csv_file_maps)\n",
    "        self.data = pd.read_csv(csv_file_data)[:-20000][:10000] # Reserve last 20000 elements for testing\n",
    "        self.root_dir = root_dir\n",
    "        self.transform = transform\n",
    "    \n",
    "    def __len__(self) -> int:\n",
    "        \"\"\"\n",
    "        Returns the size of the dataset as number of elements.\n",
    "\n",
    "        Returns:\n",
    "            int: Number of elements\n",
    "        \"\"\"\n",
    "        return len(self.data)\n",
    "    \n",
    "    def __getitem__(self, index: int) -> tuple:\n",
    "        \"\"\"\n",
    "        Returns an element from the dataset for a given index.\n",
    "\n",
    "        Parameters:\n",
    "            index (int): The index of the element to be returned\n",
    "\n",
    "        Returns:\n",
    "            tuple: Tuple in the form of (image_data: torch.Tensor, datapoint_1, datapoint_2, ...)\n",
    "\n",
    "        \"\"\"\n",
    "        # Value of the \"dr7objid\" field for the current element\n",
    "        dr7objid = self.data['dr7objid'][index]\n",
    "\n",
    "        filename = str(self.maps[self.maps['objid'] == dr7objid]['asset_id'].item()) + '.jpg'\n",
    "        image_path = os.path.join(self.root_dir, filename)\n",
    "        image = io.imread(image_path) # Load image as numpy tensor with normalized color values\n",
    "\n",
    "        # pandas Dataframe containing all the datapoints for the given dr7objid\n",
    "        image_data = self.data.loc[self.data['dr7objid'] == dr7objid]\n",
    "\n",
    "        # Select prediction (for t01) from maximum percentage of votes \n",
    "        predictions_t01 = [image_data.to_numpy()[0][13], image_data.to_numpy()[0][19], image_data.to_numpy()[0][25]]\n",
    "        prediction_t01 = predictions_t01.index(max(predictions_t01))\n",
    "\n",
    "        predictions_t02 = [image_data.to_numpy()[0][31], image_data.to_numpy()[0][37]]\n",
    "        prediction_t02 = predictions_t02.index(max(predictions_t02))\n",
    "\n",
    "        # Possible predictions:\n",
    "        # 0:= smooth\n",
    "        # 1:= features\n",
    "        # 2:= star\n",
    "\n",
    "        if self.transform:\n",
    "            image = self.transform(image)\n",
    "\n",
    "        output = tuple([image.to(device), torch.tensor(prediction_t01).to(device), torch.tensor(prediction_t02).to(device)])#, torch.tensor(predictions).to(device)])\n",
    "\n",
    "        return output"
   ]
  },
  {
   "cell_type": "code",
   "execution_count": 119,
   "metadata": {},
   "outputs": [],
   "source": [
    "transform = transforms.Compose([transforms.ToTensor(), transforms.RandomRotation(degrees=(0,180)), transforms.CenterCrop(crop_size), transforms.Resize(image_size)]) # Transforms to be used on the data\n",
    "\n",
    "dataset = GZ2Dataset(csv_file_maps='gz2_filename_mapping.csv', csv_file_data='gz2_hart16_cleaned.csv', root_dir='images_gz2/images/', transform=transform)\n",
    "\n",
    "# Split dataset into training and testing data using 80% of the dataset for training and 20% for testing \n",
    "trainset, testset = random_split(dataset, [round(0.8*len(dataset)), round(0.2*len(dataset))])"
   ]
  },
  {
   "cell_type": "code",
   "execution_count": 120,
   "metadata": {},
   "outputs": [],
   "source": [
    "trainloader = DataLoader(trainset, batch_size=batch_size, shuffle=True)\n",
    "testloader = DataLoader(testset, batch_size=batch_size, shuffle=True)"
   ]
  },
  {
   "cell_type": "code",
   "execution_count": 121,
   "metadata": {},
   "outputs": [],
   "source": [
    "class CNN_T01(nn.Module):\n",
    "    def __init__(self, save_file: str):\n",
    "        super(CNN_T01, self).__init__()\n",
    "        self.save_file = save_file\n",
    "        \n",
    "        self.conv1 = nn.Conv2d(3, 32, 3)\n",
    "        self.conv2 = nn.Conv2d(32, 64, 3) \n",
    "        self.conv3 = nn.Conv2d(64, 128, 2)\n",
    "        self.conv4 = nn.Conv2d(128, 256, 2)\n",
    "\n",
    "        self.lin1 = nn.Linear(256*5*5, 128)\n",
    "        self.lin2 = nn.Linear(128, 32)\n",
    "        self.out = nn.Linear(32, 3)\n",
    "    \n",
    "    def forward(self, x):\n",
    "        x = F.dropout(F.max_pool2d(self.conv1(x), (2,2)), 0.1)\n",
    "        x = F.dropout(F.max_pool2d(self.conv2(x), (2,2)), 0.2)\n",
    "        x = F.dropout(F.max_pool2d(self.conv3(x), (2,2)), 0.3)\n",
    "        x = F.dropout(F.max_pool2d(self.conv4(x), (2,2)), 0.4)\n",
    "        #print(x.shape)\n",
    "\n",
    "        x = x.flatten(start_dim=1)\n",
    "\n",
    "        #x = self.drop1(x)\n",
    "\n",
    "        x = F.dropout(F.relu(self.lin1(x)), 0.5)\n",
    "        x = F.dropout(F.leaky_relu(self.lin2(x)), 0.5)\n",
    "        x = self.out(x)\n",
    "        return x"
   ]
  },
  {
   "cell_type": "code",
   "execution_count": 122,
   "metadata": {},
   "outputs": [],
   "source": [
    "class CNN_T02(nn.Module):\n",
    "    def __init__(self, save_file: str):\n",
    "        super(CNN_T02, self).__init__()\n",
    "        self.save_file = save_file\n",
    "        \n",
    "        self.conv1 = nn.Conv2d(3, 32, 3)\n",
    "        self.conv2 = nn.Conv2d(32, 64, 3) \n",
    "        self.conv3 = nn.Conv2d(64, 128, 2)\n",
    "\n",
    "        self.lin1 = nn.Linear(128*11*11, 128)\n",
    "        self.lin2 = nn.Linear(128, 32)\n",
    "        self.out = nn.Linear(32, 3)\n",
    "    \n",
    "    def forward(self, x):\n",
    "        x = F.dropout(F.max_pool2d(self.conv1(x), (2,2)), 0.1)\n",
    "        x = F.dropout(F.max_pool2d(self.conv2(x), (2,2)), 0.2)\n",
    "        x = F.dropout(F.max_pool2d(self.conv3(x), (2,2)), 0.3)\n",
    "        #print(x.shape)\n",
    "\n",
    "        x = x.flatten(start_dim=1)\n",
    "\n",
    "        #x = self.drop1(x)\n",
    "\n",
    "        x = F.dropout(F.relu(self.lin1(x)), 0.5)\n",
    "        x = F.dropout(F.leaky_relu(self.lin2(x)), 0.5)\n",
    "        x = self.out(x)\n",
    "        return x"
   ]
  },
  {
   "cell_type": "code",
   "execution_count": 123,
   "metadata": {},
   "outputs": [],
   "source": [
    "net_t01 = CNN_T01('net_t01.state').to(device)\n",
    "net_t02 = CNN_T02('net_t02.state').to(device)\n",
    "\n",
    "optimizer = Adam(net_t01.parameters(), lr=learning_rate, betas=betas)\n",
    "criterion = nn.CrossEntropyLoss().to(device)"
   ]
  },
  {
   "cell_type": "code",
   "execution_count": 124,
   "metadata": {},
   "outputs": [
    {
     "ename": "RuntimeError",
     "evalue": "Error(s) in loading state_dict for CNN_T01:\n\tMissing key(s) in state_dict: \"conv4.weight\", \"conv4.bias\", \"lin1.weight\", \"lin1.bias\", \"lin2.weight\", \"lin2.bias\". \n\tUnexpected key(s) in state_dict: \"lin.weight\", \"lin.bias\". \n\tsize mismatch for out.weight: copying a param with shape torch.Size([3, 128]) from checkpoint, the shape in current model is torch.Size([3, 32]).",
     "output_type": "error",
     "traceback": [
      "\u001b[0;31m---------------------------------------------------------------------------\u001b[0m",
      "\u001b[0;31mRuntimeError\u001b[0m                              Traceback (most recent call last)",
      "Cell \u001b[0;32mIn[124], line 9\u001b[0m\n\u001b[1;32m      7\u001b[0m         net\u001b[39m.\u001b[39msave_net(net_t01)\n\u001b[1;32m      8\u001b[0m \u001b[39melse\u001b[39;00m:\n\u001b[0;32m----> 9\u001b[0m     net_t01 \u001b[39m=\u001b[39m net\u001b[39m.\u001b[39;49mload_net(net_t01, device\u001b[39m=\u001b[39;49mdevice)\n\u001b[1;32m     11\u001b[0m net\u001b[39m.\u001b[39mvalidation_loop(testloader, criterion, net_t01)\n",
      "File \u001b[0;32m~/git/Classification-of-Galaxies/net.py:37\u001b[0m, in \u001b[0;36mload_net\u001b[0;34m(net, device)\u001b[0m\n\u001b[1;32m     36\u001b[0m \u001b[39mdef\u001b[39;00m \u001b[39mload_net\u001b[39m(net, device\u001b[39m=\u001b[39m\u001b[39m'\u001b[39m\u001b[39mcpu\u001b[39m\u001b[39m'\u001b[39m):\n\u001b[0;32m---> 37\u001b[0m     net\u001b[39m.\u001b[39;49mload_state_dict(torch\u001b[39m.\u001b[39;49mload(net\u001b[39m.\u001b[39;49msave_file, map_location\u001b[39m=\u001b[39;49mtorch\u001b[39m.\u001b[39;49mdevice(device)))\n\u001b[1;32m     38\u001b[0m     \u001b[39mreturn\u001b[39;00m net\n",
      "File \u001b[0;32m~/anaconda3/envs/class-of-galaxies/lib/python3.10/site-packages/torch/nn/modules/module.py:1671\u001b[0m, in \u001b[0;36mModule.load_state_dict\u001b[0;34m(self, state_dict, strict)\u001b[0m\n\u001b[1;32m   1666\u001b[0m         error_msgs\u001b[39m.\u001b[39minsert(\n\u001b[1;32m   1667\u001b[0m             \u001b[39m0\u001b[39m, \u001b[39m'\u001b[39m\u001b[39mMissing key(s) in state_dict: \u001b[39m\u001b[39m{}\u001b[39;00m\u001b[39m. \u001b[39m\u001b[39m'\u001b[39m\u001b[39m.\u001b[39mformat(\n\u001b[1;32m   1668\u001b[0m                 \u001b[39m'\u001b[39m\u001b[39m, \u001b[39m\u001b[39m'\u001b[39m\u001b[39m.\u001b[39mjoin(\u001b[39m'\u001b[39m\u001b[39m\"\u001b[39m\u001b[39m{}\u001b[39;00m\u001b[39m\"\u001b[39m\u001b[39m'\u001b[39m\u001b[39m.\u001b[39mformat(k) \u001b[39mfor\u001b[39;00m k \u001b[39min\u001b[39;00m missing_keys)))\n\u001b[1;32m   1670\u001b[0m \u001b[39mif\u001b[39;00m \u001b[39mlen\u001b[39m(error_msgs) \u001b[39m>\u001b[39m \u001b[39m0\u001b[39m:\n\u001b[0;32m-> 1671\u001b[0m     \u001b[39mraise\u001b[39;00m \u001b[39mRuntimeError\u001b[39;00m(\u001b[39m'\u001b[39m\u001b[39mError(s) in loading state_dict for \u001b[39m\u001b[39m{}\u001b[39;00m\u001b[39m:\u001b[39m\u001b[39m\\n\u001b[39;00m\u001b[39m\\t\u001b[39;00m\u001b[39m{}\u001b[39;00m\u001b[39m'\u001b[39m\u001b[39m.\u001b[39mformat(\n\u001b[1;32m   1672\u001b[0m                        \u001b[39mself\u001b[39m\u001b[39m.\u001b[39m\u001b[39m__class__\u001b[39m\u001b[39m.\u001b[39m\u001b[39m__name__\u001b[39m, \u001b[39m\"\u001b[39m\u001b[39m\\n\u001b[39;00m\u001b[39m\\t\u001b[39;00m\u001b[39m\"\u001b[39m\u001b[39m.\u001b[39mjoin(error_msgs)))\n\u001b[1;32m   1673\u001b[0m \u001b[39mreturn\u001b[39;00m _IncompatibleKeys(missing_keys, unexpected_keys)\n",
      "\u001b[0;31mRuntimeError\u001b[0m: Error(s) in loading state_dict for CNN_T01:\n\tMissing key(s) in state_dict: \"conv4.weight\", \"conv4.bias\", \"lin1.weight\", \"lin1.bias\", \"lin2.weight\", \"lin2.bias\". \n\tUnexpected key(s) in state_dict: \"lin.weight\", \"lin.bias\". \n\tsize mismatch for out.weight: copying a param with shape torch.Size([3, 128]) from checkpoint, the shape in current model is torch.Size([3, 32])."
     ]
    }
   ],
   "source": [
    "import net\n",
    "\n",
    "if not load_t01:\n",
    "    net.trainloop(trainloader, optimizer, criterion, net_t01, epochs=1)\n",
    "\n",
    "    if save_t01:\n",
    "        net.save_net(net_t01)\n",
    "else:\n",
    "    net_t01 = net.load_net(net_t01, device=device)\n",
    "\n",
    "net.validation_loop(testloader, criterion, net_t01)"
   ]
  },
  {
   "cell_type": "code",
   "execution_count": null,
   "metadata": {},
   "outputs": [
    {
     "ename": "SyntaxError",
     "evalue": "expected ':' (4156393038.py, line 6)",
     "output_type": "error",
     "traceback": [
      "\u001b[0;36m  Cell \u001b[0;32mIn[115], line 6\u001b[0;36m\u001b[0m\n\u001b[0;31m    else.\u001b[0m\n\u001b[0m        ^\u001b[0m\n\u001b[0;31mSyntaxError\u001b[0m\u001b[0;31m:\u001b[0m expected ':'\n"
     ]
    }
   ],
   "source": [
    "if not load_t02:\n",
    "    net.trainloop(trainloader, optimizer, criterion, net_t02, epochs=1)\n",
    "\n",
    "    if save_t02:\n",
    "        net.save_net(net_t02)\n",
    "else:\n",
    "    net_t02 = net.load_net(net_t02, device=device)\n",
    "\n",
    "net.validation_loop(testloader, criterion, net_t02)"
   ]
  },
  {
   "cell_type": "code",
   "execution_count": null,
   "metadata": {},
   "outputs": [
    {
     "name": "stdout",
     "output_type": "stream",
     "text": [
      "2000\n",
      "Guess: smooth\n",
      "Label: featured\n"
     ]
    },
    {
     "data": {
      "image/png": "[encoded data removed]",
      "text/plain": [
       "<Figure size 640x480 with 1 Axes>"
      ]
     },
     "metadata": {},
     "output_type": "display_data"
    }
   ],
   "source": [
    "entry = next(iter(testloader))\n",
    "image = entry[0]\n",
    "label = entry[1:]\n",
    "\n",
    "print(len(testset))\n",
    "\n",
    "prediction = net_t01(image.reshape(batch_size,3,image_size,image_size))\n",
    "\n",
    "plt.imshow(image[0].permute(1,2,0).cpu().numpy())\n",
    "\n",
    "#print(prediction.topk(1,dim=1)[1][0])\n",
    "\n",
    "print('Guess: ' + ['smooth', 'featured', 'star'][prediction.topk(1,dim=1)[1][0].item()])\n",
    "print('Label: ' + ['smooth', 'featured', 'star'][label[0][0].item()])\n",
    "if prediction.topk(1,dim=1)[1][0].item() == 1:\n",
    "    print('> edgeon? ' + ['yes', 'no'][label[0][1].item()])\n",
    "#print('Label percentage: ' + str(label_split[0].tolist()))"
   ]
  }
 ],
 "metadata": {
  "kernelspec": {
   "display_name": "class-of-galaxies",
   "language": "python",
   "name": "python3"
  },
  "language_info": {
   "codemirror_mode": {
    "name": "ipython",
    "version": 3
   },
   "file_extension": ".py",
   "mimetype": "text/x-python",
   "name": "python",
   "nbconvert_exporter": "python",
   "pygments_lexer": "ipython3",
   "version": "3.10.8"
  },
  "orig_nbformat": 4,
  "vscode": {
   "interpreter": {
    "hash": "dc74a37fd9b5dae04537e23c756462ec4e88f32b6546978c8f3b7d587dee2175"
   }
  }
 },
 "nbformat": 4,
 "nbformat_minor": 2
}
