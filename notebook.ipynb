{
 "cells": [
  {
   "cell_type": "code",
   "execution_count": 1,
   "metadata": {},
   "outputs": [],
   "source": [
    "from torchvision import transforms\n",
    "from torch.utils.data import random_split\n",
    "from torch.utils.data import Dataset\n",
    "from torch.utils.data import DataLoader\n",
    "\n",
    "from torch import nn\n",
    "import torch.nn.functional as F\n",
    "import torch\n",
    "from torch.optim import Adam\n",
    "\n",
    "from torch import cuda\n",
    "\n",
    "from torchinfo import summary\n",
    "\n",
    "import matplotlib.pyplot as plt\n",
    "import pandas as pd\n",
    "from skimage import io\n",
    "from tqdm import tqdm\n",
    "import os"
   ]
  },
  {
   "cell_type": "code",
   "execution_count": 2,
   "metadata": {},
   "outputs": [],
   "source": [
    "### Parameters\n",
    "batch_size = 64\n",
    "crop_size = 256\n",
    "image_size = 102\n",
    "\n",
    "save_t00 = True\n",
    "load_t00 = False\n",
    "\n",
    "save_t01 = True\n",
    "load_t01 = False\n",
    "\n",
    "torch.manual_seed(12)\n",
    "\n",
    "if cuda.is_available():\n",
    "    device = 'cuda'\n",
    "else:\n",
    "    device = 'cpu'\n",
    "\n",
    "### Hyperparams\n",
    "learning_rate = 0.002\n",
    "betas = (0.9, 0.999)"
   ]
  },
  {
   "cell_type": "code",
   "execution_count": 3,
   "metadata": {},
   "outputs": [],
   "source": [
    "class GZ2Dataset(Dataset):\n",
    "    def __init__(self, csv_file_maps: str, csv_file_data: str, root_dir: str, transform = None) -> None:\n",
    "        \"\"\"\n",
    "        Initializes the dataset.\n",
    "\n",
    "        Parameters:\n",
    "            csv_file_maps (str): Name of *.csv file that contains the filename to id mapping for the images\n",
    "            csv_file_data (str): Name of *.csv file that contains the labeled data for every id\n",
    "            root_dir (str): Directory containing all the images\n",
    "            transform (class from torchvision.transforms): Transform to be used on the image data\n",
    "        \"\"\"\n",
    "        self.maps = pd.read_csv(csv_file_maps)\n",
    "        self.data_loaded = pd.read_csv(csv_file_data)\n",
    "        self.data = self.data_loaded[:-round(0.15*len(self.data_loaded))] # Reserve last 15% of elements for testing\n",
    "        self.root_dir = root_dir\n",
    "        self.transform = transform\n",
    "    \n",
    "    def __len__(self) -> int:\n",
    "        \"\"\"\n",
    "        Returns the size of the dataset as number of elements.\n",
    "\n",
    "        Returns:\n",
    "            int: Number of elements\n",
    "        \"\"\"\n",
    "        return len(self.data)\n",
    "    \n",
    "    def __getitem__(self, index: int) -> tuple:\n",
    "        \"\"\"\n",
    "        Returns an element from the dataset for a given index.\n",
    "\n",
    "        Parameters:\n",
    "            index (int): The index of the element to be returned\n",
    "\n",
    "        Returns:\n",
    "            tuple: Tuple in the form of (image_data: torch.Tensor, datapoint_1, datapoint_2, ...)\n",
    "\n",
    "        \"\"\"\n",
    "        # Value of the \"dr7objid\" field for the current element\n",
    "        dr7objid = self.data['dr7objid'][index]\n",
    "\n",
    "        filename = str(self.maps[self.maps['objid'] == dr7objid]['asset_id'].item()) + '.jpg'\n",
    "        image_path = os.path.join(self.root_dir, filename)\n",
    "        image = io.imread(image_path) # Load image as numpy tensor with normalized color values\n",
    "\n",
    "        # pandas Dataframe containing all the datapoints for the given dr7objid\n",
    "        image_data = self.data.loc[self.data['dr7objid'] == dr7objid]\n",
    "\n",
    "        # Select prediction (for t01) from maximum percentage of votes \n",
    "        predictions_t01 = [image_data.to_numpy()[0][13], image_data.to_numpy()[0][19], image_data.to_numpy()[0][25]]\n",
    "        prediction_t01 = predictions_t01.index(max(predictions_t01))\n",
    "\n",
    "        predictions_t02 = [image_data.to_numpy()[0][31], image_data.to_numpy()[0][37]]\n",
    "        prediction_t02 = predictions_t02.index(max(predictions_t02))\n",
    "\n",
    "        # Possible predictions:\n",
    "        # 0:= smooth\n",
    "        # 1:= features\n",
    "        # 2:= star\n",
    "\n",
    "        if self.transform:\n",
    "            image = self.transform(image)\n",
    "\n",
    "        output = tuple([image.to(device), torch.tensor(prediction_t01).to(device), torch.tensor(prediction_t02).to(device)])#, torch.tensor(predictions).to(device)])\n",
    "\n",
    "        return output"
   ]
  },
  {
   "cell_type": "code",
   "execution_count": 4,
   "metadata": {},
   "outputs": [],
   "source": [
    "transform = transforms.Compose([transforms.ToTensor(), \n",
    "                                transforms.RandomRotation(degrees=(0,180)), \n",
    "                                transforms.CenterCrop(crop_size), \n",
    "                                transforms.Resize(image_size)]) # Transforms to be used on the data\n",
    "\n",
    "dataset = GZ2Dataset(csv_file_maps='gz2_filename_mapping.csv', \n",
    "                     csv_file_data='gz2_hart16_cleaned.csv', \n",
    "                     root_dir='images_gz2/images/', \n",
    "                     transform=transform)\n",
    "\n",
    "# Split dataset into training and testing data using 80% of the dataset for training and 20% for validation \n",
    "trainset, testset, rest = random_split(dataset, [round(0.05*len(dataset)), round(0.002*len(dataset)), round(0.948*len(dataset))])"
   ]
  },
  {
   "cell_type": "code",
   "execution_count": 5,
   "metadata": {},
   "outputs": [],
   "source": [
    "trainloader = DataLoader(trainset, batch_size=batch_size, shuffle=True)\n",
    "testloader = DataLoader(testset, batch_size=batch_size, shuffle=True)"
   ]
  },
  {
   "cell_type": "code",
   "execution_count": 6,
   "metadata": {},
   "outputs": [],
   "source": [
    "class CNN_T00(nn.Module):\n",
    "    def __init__(self, save_file: str):\n",
    "        super(CNN_T00, self).__init__()\n",
    "        self.save_file = save_file\n",
    "        \n",
    "        self.net = nn.Sequential(nn.Conv2d(3, 32, 3),\n",
    "                                 nn.MaxPool2d((2,2)),\n",
    "                                 nn.Dropout(0.1),\n",
    "\n",
    "                                 nn.Conv2d(32, 64, 3),\n",
    "                                 nn.MaxPool2d((2,2)),\n",
    "                                 nn.Dropout(0.1),\n",
    "\n",
    "                                 nn.Conv2d(64, 128, 3),\n",
    "                                 nn.MaxPool2d((2,2)),\n",
    "                                 nn.Dropout(0.2),\n",
    "\n",
    "                                 nn.Conv2d(128, 256, 3),\n",
    "                                 nn.MaxPool2d((2,2)),\n",
    "                                 nn.Dropout(0.3),\n",
    "\n",
    "                                 \n",
    "\n",
    "                                 nn.Flatten(),\n",
    "\n",
    "                                 nn.Linear(256 * 4 * 4, 128),\n",
    "                                 nn.ReLU(),\n",
    "                                 nn.Dropout(0.4),\n",
    "\n",
    "                                 nn.Linear(128, 32),\n",
    "                                 nn.LeakyReLU(),\n",
    "                                 nn.Dropout(0.5),\n",
    "                                 \n",
    "                                 nn.Linear(32, 3))\n",
    "    \n",
    "    def forward(self, x):\n",
    "        x = self.net(x)\n",
    "        return x"
   ]
  },
  {
   "cell_type": "code",
   "execution_count": 7,
   "metadata": {},
   "outputs": [],
   "source": [
    "class CNN_T01(nn.Module):\n",
    "    def __init__(self, save_file: str):\n",
    "        super(CNN_T01, self).__init__()\n",
    "        self.save_file = save_file\n",
    "        \n",
    "        self.conv1 = nn.Conv2d(3, 32, 3)\n",
    "        self.conv2 = nn.Conv2d(32, 64, 3) \n",
    "        self.conv3 = nn.Conv2d(64, 128, 2)\n",
    "\n",
    "        self.lin1 = nn.Linear(128*11*11, 128)\n",
    "        self.lin2 = nn.Linear(128, 32)\n",
    "        self.out = nn.Linear(32, 3)\n",
    "    \n",
    "    def forward(self, x):\n",
    "        x = F.dropout(F.max_pool2d(self.conv1(x), (2,2)), 0.1)\n",
    "        x = F.dropout(F.max_pool2d(self.conv2(x), (2,2)), 0.2)\n",
    "        x = F.dropout(F.max_pool2d(self.conv3(x), (2,2)), 0.3)\n",
    "        #print(x.shape)\n",
    "\n",
    "        x = x.flatten(start_dim=1)\n",
    "\n",
    "        #x = self.drop1(x)\n",
    "\n",
    "        x = F.dropout(F.relu(self.lin1(x)), 0.5)\n",
    "        x = F.dropout(F.leaky_relu(self.lin2(x)), 0.5)\n",
    "        x = self.out(x)\n",
    "        return x"
   ]
  },
  {
   "cell_type": "code",
   "execution_count": 8,
   "metadata": {},
   "outputs": [],
   "source": [
    "net_t00 = CNN_T00('net_t00.state').to(device)\n",
    "net_t01 = CNN_T01('net_t01.state').to(device)\n",
    "\n",
    "optim_t00 = Adam(net_t00.parameters(), lr=learning_rate, betas=betas)\n",
    "optim_t01 = Adam(net_t01.parameters(), lr=learning_rate, betas=betas)\n",
    "criterion = nn.CrossEntropyLoss().to(device)"
   ]
  },
  {
   "cell_type": "code",
   "execution_count": 9,
   "metadata": {},
   "outputs": [
    {
     "name": "stdout",
     "output_type": "stream",
     "text": [
      "==========================================================================================\n",
      "Layer (type:depth-idx)                   Output Shape              Param #\n",
      "==========================================================================================\n",
      "CNN_T00                                  [64, 3]                   --\n",
      "├─Sequential: 1-1                        [64, 3]                   --\n",
      "│    └─Conv2d: 2-1                       [64, 32, 100, 100]        896\n",
      "│    └─MaxPool2d: 2-2                    [64, 32, 50, 50]          --\n",
      "│    └─Dropout: 2-3                      [64, 32, 50, 50]          --\n",
      "│    └─Conv2d: 2-4                       [64, 64, 48, 48]          18,496\n",
      "│    └─MaxPool2d: 2-5                    [64, 64, 24, 24]          --\n",
      "│    └─Dropout: 2-6                      [64, 64, 24, 24]          --\n",
      "│    └─Conv2d: 2-7                       [64, 128, 22, 22]         73,856\n",
      "│    └─MaxPool2d: 2-8                    [64, 128, 11, 11]         --\n",
      "│    └─Dropout: 2-9                      [64, 128, 11, 11]         --\n",
      "│    └─Conv2d: 2-10                      [64, 256, 9, 9]           295,168\n",
      "│    └─MaxPool2d: 2-11                   [64, 256, 4, 4]           --\n",
      "│    └─Dropout: 2-12                     [64, 256, 4, 4]           --\n",
      "│    └─Flatten: 2-13                     [64, 4096]                --\n",
      "│    └─Linear: 2-14                      [64, 128]                 524,416\n",
      "│    └─ReLU: 2-15                        [64, 128]                 --\n",
      "│    └─Dropout: 2-16                     [64, 128]                 --\n",
      "│    └─Linear: 2-17                      [64, 32]                  4,128\n",
      "│    └─LeakyReLU: 2-18                   [64, 32]                  --\n",
      "│    └─Dropout: 2-19                     [64, 32]                  --\n",
      "│    └─Linear: 2-20                      [64, 3]                   99\n",
      "==========================================================================================\n",
      "Total params: 917,059\n",
      "Trainable params: 917,059\n",
      "Non-trainable params: 0\n",
      "Total mult-adds (G): 7.15\n",
      "==========================================================================================\n",
      "Input size (MB): 7.99\n",
      "Forward/backward pass size (MB): 281.76\n",
      "Params size (MB): 3.67\n",
      "Estimated Total Size (MB): 293.42\n",
      "==========================================================================================\n"
     ]
    }
   ],
   "source": [
    "print(summary(net_t00, (batch_size, 3, image_size, image_size)))"
   ]
  },
  {
   "cell_type": "code",
   "execution_count": 10,
   "metadata": {},
   "outputs": [
    {
     "name": "stderr",
     "output_type": "stream",
     "text": [
      "Epoch [1/3]: 100%|██████████| 160/160 [02:50<00:00,  1.07s/it, loss=0.597]\n",
      "> Validation on test data : 100%|██████████| 7/7 [00:05<00:00,  1.37it/s, acc=0.724, loss=0.441]\n",
      "Epoch [2/3]: 100%|██████████| 160/160 [02:32<00:00,  1.05it/s, loss=0.477]\n",
      "> Validation on test data : 100%|██████████| 7/7 [00:04<00:00,  1.46it/s, acc=0.722, loss=0.461]\n",
      "Epoch [3/3]: 100%|██████████| 160/160 [02:33<00:00,  1.04it/s, loss=0.462]\n",
      "> Validation on test data : 100%|██████████| 7/7 [00:04<00:00,  1.41it/s, acc=0.809, loss=0.424]\n",
      "> Validation on test data : 100%|██████████| 7/7 [00:05<00:00,  1.37it/s, acc=0.803, loss=0.414]\n"
     ]
    }
   ],
   "source": [
    "import net\n",
    "\n",
    "epochs = 3\n",
    "\n",
    "if not load_t00:\n",
    "    #net.trainloop(trainloader, optim_t00, criterion, net_t00, epochs=epochs)\n",
    "    net.train_validation_loop(trainloader, testloader, optim_t00, criterion, net_t00, epochs)\n",
    "\n",
    "    if save_t00:\n",
    "        net.save_net(net_t00)\n",
    "else:\n",
    "    net_t00 = net.load_net(net_t00, device=device)\n",
    "\n",
    "net.validation_loop(testloader, criterion, net_t00)"
   ]
  },
  {
   "cell_type": "code",
   "execution_count": 12,
   "metadata": {},
   "outputs": [
    {
     "name": "stderr",
     "output_type": "stream",
     "text": [
      "> Validation on test data : 100%|██████████| 7/7 [00:05<00:00,  1.31it/s, acc=0.784, loss=0.429]\n"
     ]
    }
   ],
   "source": [
    "net.validation_loop(testloader, criterion, net_t00)"
   ]
  },
  {
   "cell_type": "code",
   "execution_count": 11,
   "metadata": {},
   "outputs": [
    {
     "name": "stderr",
     "output_type": "stream",
     "text": [
      "Epoch [1/3]: 100%|██████████| 160/160 [02:44<00:00,  1.03s/it, loss=0.585]\n",
      "Epoch [2/3]:  53%|█████▎    | 85/160 [01:21<01:11,  1.05it/s, loss=0.535]\n"
     ]
    },
    {
     "ename": "KeyboardInterrupt",
     "evalue": "",
     "output_type": "error",
     "traceback": [
      "\u001b[0;31m---------------------------------------------------------------------------\u001b[0m",
      "\u001b[0;31mKeyboardInterrupt\u001b[0m                         Traceback (most recent call last)",
      "Cell \u001b[0;32mIn[11], line 4\u001b[0m\n\u001b[1;32m      1\u001b[0m epochs \u001b[39m=\u001b[39m \u001b[39m3\u001b[39m\n\u001b[1;32m      3\u001b[0m \u001b[39mif\u001b[39;00m \u001b[39mnot\u001b[39;00m load_t01:\n\u001b[0;32m----> 4\u001b[0m     net\u001b[39m.\u001b[39;49mtrainloop(trainloader, optim_t01, criterion, net_t01, epochs\u001b[39m=\u001b[39;49mepochs)\n\u001b[1;32m      6\u001b[0m     \u001b[39mif\u001b[39;00m save_t01:\n\u001b[1;32m      7\u001b[0m         net\u001b[39m.\u001b[39msave_net(net_t01)\n",
      "File \u001b[0;32m~/git/Classification-of-Galaxies/net.py:63\u001b[0m, in \u001b[0;36mtrainloop\u001b[0;34m(trainloader, optimizer, criterion, net, epochs)\u001b[0m\n\u001b[1;32m     59\u001b[0m training_loss \u001b[39m=\u001b[39m \u001b[39m0\u001b[39m\n\u001b[1;32m     61\u001b[0m trainloop \u001b[39m=\u001b[39m tqdm(trainloader)\n\u001b[0;32m---> 63\u001b[0m \u001b[39mfor\u001b[39;00m i, (images, labels_t01, labels_t02) \u001b[39min\u001b[39;00m \u001b[39menumerate\u001b[39m(trainloop):\n\u001b[1;32m     64\u001b[0m     optimizer\u001b[39m.\u001b[39mzero_grad() \u001b[39m#Set gradients to zero\u001b[39;00m\n\u001b[1;32m     66\u001b[0m     predictions \u001b[39m=\u001b[39m net(images)\n",
      "File \u001b[0;32m~/anaconda3/envs/class-of-galaxies/lib/python3.10/site-packages/tqdm/std.py:1195\u001b[0m, in \u001b[0;36mtqdm.__iter__\u001b[0;34m(self)\u001b[0m\n\u001b[1;32m   1192\u001b[0m time \u001b[39m=\u001b[39m \u001b[39mself\u001b[39m\u001b[39m.\u001b[39m_time\n\u001b[1;32m   1194\u001b[0m \u001b[39mtry\u001b[39;00m:\n\u001b[0;32m-> 1195\u001b[0m     \u001b[39mfor\u001b[39;00m obj \u001b[39min\u001b[39;00m iterable:\n\u001b[1;32m   1196\u001b[0m         \u001b[39myield\u001b[39;00m obj\n\u001b[1;32m   1197\u001b[0m         \u001b[39m# Update and possibly print the progressbar.\u001b[39;00m\n\u001b[1;32m   1198\u001b[0m         \u001b[39m# Note: does not call self.update(1) for speed optimisation.\u001b[39;00m\n",
      "File \u001b[0;32m~/anaconda3/envs/class-of-galaxies/lib/python3.10/site-packages/torch/utils/data/dataloader.py:628\u001b[0m, in \u001b[0;36m_BaseDataLoaderIter.__next__\u001b[0;34m(self)\u001b[0m\n\u001b[1;32m    625\u001b[0m \u001b[39mif\u001b[39;00m \u001b[39mself\u001b[39m\u001b[39m.\u001b[39m_sampler_iter \u001b[39mis\u001b[39;00m \u001b[39mNone\u001b[39;00m:\n\u001b[1;32m    626\u001b[0m     \u001b[39m# TODO(https://github.com/pytorch/pytorch/issues/76750)\u001b[39;00m\n\u001b[1;32m    627\u001b[0m     \u001b[39mself\u001b[39m\u001b[39m.\u001b[39m_reset()  \u001b[39m# type: ignore[call-arg]\u001b[39;00m\n\u001b[0;32m--> 628\u001b[0m data \u001b[39m=\u001b[39m \u001b[39mself\u001b[39;49m\u001b[39m.\u001b[39;49m_next_data()\n\u001b[1;32m    629\u001b[0m \u001b[39mself\u001b[39m\u001b[39m.\u001b[39m_num_yielded \u001b[39m+\u001b[39m\u001b[39m=\u001b[39m \u001b[39m1\u001b[39m\n\u001b[1;32m    630\u001b[0m \u001b[39mif\u001b[39;00m \u001b[39mself\u001b[39m\u001b[39m.\u001b[39m_dataset_kind \u001b[39m==\u001b[39m _DatasetKind\u001b[39m.\u001b[39mIterable \u001b[39mand\u001b[39;00m \\\n\u001b[1;32m    631\u001b[0m         \u001b[39mself\u001b[39m\u001b[39m.\u001b[39m_IterableDataset_len_called \u001b[39mis\u001b[39;00m \u001b[39mnot\u001b[39;00m \u001b[39mNone\u001b[39;00m \u001b[39mand\u001b[39;00m \\\n\u001b[1;32m    632\u001b[0m         \u001b[39mself\u001b[39m\u001b[39m.\u001b[39m_num_yielded \u001b[39m>\u001b[39m \u001b[39mself\u001b[39m\u001b[39m.\u001b[39m_IterableDataset_len_called:\n",
      "File \u001b[0;32m~/anaconda3/envs/class-of-galaxies/lib/python3.10/site-packages/torch/utils/data/dataloader.py:671\u001b[0m, in \u001b[0;36m_SingleProcessDataLoaderIter._next_data\u001b[0;34m(self)\u001b[0m\n\u001b[1;32m    669\u001b[0m \u001b[39mdef\u001b[39;00m \u001b[39m_next_data\u001b[39m(\u001b[39mself\u001b[39m):\n\u001b[1;32m    670\u001b[0m     index \u001b[39m=\u001b[39m \u001b[39mself\u001b[39m\u001b[39m.\u001b[39m_next_index()  \u001b[39m# may raise StopIteration\u001b[39;00m\n\u001b[0;32m--> 671\u001b[0m     data \u001b[39m=\u001b[39m \u001b[39mself\u001b[39;49m\u001b[39m.\u001b[39;49m_dataset_fetcher\u001b[39m.\u001b[39;49mfetch(index)  \u001b[39m# may raise StopIteration\u001b[39;00m\n\u001b[1;32m    672\u001b[0m     \u001b[39mif\u001b[39;00m \u001b[39mself\u001b[39m\u001b[39m.\u001b[39m_pin_memory:\n\u001b[1;32m    673\u001b[0m         data \u001b[39m=\u001b[39m _utils\u001b[39m.\u001b[39mpin_memory\u001b[39m.\u001b[39mpin_memory(data, \u001b[39mself\u001b[39m\u001b[39m.\u001b[39m_pin_memory_device)\n",
      "File \u001b[0;32m~/anaconda3/envs/class-of-galaxies/lib/python3.10/site-packages/torch/utils/data/_utils/fetch.py:58\u001b[0m, in \u001b[0;36m_MapDatasetFetcher.fetch\u001b[0;34m(self, possibly_batched_index)\u001b[0m\n\u001b[1;32m     56\u001b[0m         data \u001b[39m=\u001b[39m \u001b[39mself\u001b[39m\u001b[39m.\u001b[39mdataset\u001b[39m.\u001b[39m__getitems__(possibly_batched_index)\n\u001b[1;32m     57\u001b[0m     \u001b[39melse\u001b[39;00m:\n\u001b[0;32m---> 58\u001b[0m         data \u001b[39m=\u001b[39m [\u001b[39mself\u001b[39m\u001b[39m.\u001b[39mdataset[idx] \u001b[39mfor\u001b[39;00m idx \u001b[39min\u001b[39;00m possibly_batched_index]\n\u001b[1;32m     59\u001b[0m \u001b[39melse\u001b[39;00m:\n\u001b[1;32m     60\u001b[0m     data \u001b[39m=\u001b[39m \u001b[39mself\u001b[39m\u001b[39m.\u001b[39mdataset[possibly_batched_index]\n",
      "File \u001b[0;32m~/anaconda3/envs/class-of-galaxies/lib/python3.10/site-packages/torch/utils/data/_utils/fetch.py:58\u001b[0m, in \u001b[0;36m<listcomp>\u001b[0;34m(.0)\u001b[0m\n\u001b[1;32m     56\u001b[0m         data \u001b[39m=\u001b[39m \u001b[39mself\u001b[39m\u001b[39m.\u001b[39mdataset\u001b[39m.\u001b[39m__getitems__(possibly_batched_index)\n\u001b[1;32m     57\u001b[0m     \u001b[39melse\u001b[39;00m:\n\u001b[0;32m---> 58\u001b[0m         data \u001b[39m=\u001b[39m [\u001b[39mself\u001b[39;49m\u001b[39m.\u001b[39;49mdataset[idx] \u001b[39mfor\u001b[39;00m idx \u001b[39min\u001b[39;00m possibly_batched_index]\n\u001b[1;32m     59\u001b[0m \u001b[39melse\u001b[39;00m:\n\u001b[1;32m     60\u001b[0m     data \u001b[39m=\u001b[39m \u001b[39mself\u001b[39m\u001b[39m.\u001b[39mdataset[possibly_batched_index]\n",
      "File \u001b[0;32m~/anaconda3/envs/class-of-galaxies/lib/python3.10/site-packages/torch/utils/data/dataset.py:295\u001b[0m, in \u001b[0;36mSubset.__getitem__\u001b[0;34m(self, idx)\u001b[0m\n\u001b[1;32m    293\u001b[0m \u001b[39mif\u001b[39;00m \u001b[39misinstance\u001b[39m(idx, \u001b[39mlist\u001b[39m):\n\u001b[1;32m    294\u001b[0m     \u001b[39mreturn\u001b[39;00m \u001b[39mself\u001b[39m\u001b[39m.\u001b[39mdataset[[\u001b[39mself\u001b[39m\u001b[39m.\u001b[39mindices[i] \u001b[39mfor\u001b[39;00m i \u001b[39min\u001b[39;00m idx]]\n\u001b[0;32m--> 295\u001b[0m \u001b[39mreturn\u001b[39;00m \u001b[39mself\u001b[39;49m\u001b[39m.\u001b[39;49mdataset[\u001b[39mself\u001b[39;49m\u001b[39m.\u001b[39;49mindices[idx]]\n",
      "Cell \u001b[0;32mIn[3], line 43\u001b[0m, in \u001b[0;36mGZ2Dataset.__getitem__\u001b[0;34m(self, index)\u001b[0m\n\u001b[1;32m     41\u001b[0m filename \u001b[39m=\u001b[39m \u001b[39mstr\u001b[39m(\u001b[39mself\u001b[39m\u001b[39m.\u001b[39mmaps[\u001b[39mself\u001b[39m\u001b[39m.\u001b[39mmaps[\u001b[39m'\u001b[39m\u001b[39mobjid\u001b[39m\u001b[39m'\u001b[39m] \u001b[39m==\u001b[39m dr7objid][\u001b[39m'\u001b[39m\u001b[39masset_id\u001b[39m\u001b[39m'\u001b[39m]\u001b[39m.\u001b[39mitem()) \u001b[39m+\u001b[39m \u001b[39m'\u001b[39m\u001b[39m.jpg\u001b[39m\u001b[39m'\u001b[39m\n\u001b[1;32m     42\u001b[0m image_path \u001b[39m=\u001b[39m os\u001b[39m.\u001b[39mpath\u001b[39m.\u001b[39mjoin(\u001b[39mself\u001b[39m\u001b[39m.\u001b[39mroot_dir, filename)\n\u001b[0;32m---> 43\u001b[0m image \u001b[39m=\u001b[39m io\u001b[39m.\u001b[39;49mimread(image_path) \u001b[39m# Load image as numpy tensor with normalized color values\u001b[39;00m\n\u001b[1;32m     45\u001b[0m \u001b[39m# pandas Dataframe containing all the datapoints for the given dr7objid\u001b[39;00m\n\u001b[1;32m     46\u001b[0m image_data \u001b[39m=\u001b[39m \u001b[39mself\u001b[39m\u001b[39m.\u001b[39mdata\u001b[39m.\u001b[39mloc[\u001b[39mself\u001b[39m\u001b[39m.\u001b[39mdata[\u001b[39m'\u001b[39m\u001b[39mdr7objid\u001b[39m\u001b[39m'\u001b[39m] \u001b[39m==\u001b[39m dr7objid]\n",
      "File \u001b[0;32m~/anaconda3/envs/class-of-galaxies/lib/python3.10/site-packages/skimage/io/_io.py:53\u001b[0m, in \u001b[0;36mimread\u001b[0;34m(fname, as_gray, plugin, **plugin_args)\u001b[0m\n\u001b[1;32m     50\u001b[0m         plugin \u001b[39m=\u001b[39m \u001b[39m'\u001b[39m\u001b[39mtifffile\u001b[39m\u001b[39m'\u001b[39m\n\u001b[1;32m     52\u001b[0m \u001b[39mwith\u001b[39;00m file_or_url_context(fname) \u001b[39mas\u001b[39;00m fname:\n\u001b[0;32m---> 53\u001b[0m     img \u001b[39m=\u001b[39m call_plugin(\u001b[39m'\u001b[39;49m\u001b[39mimread\u001b[39;49m\u001b[39m'\u001b[39;49m, fname, plugin\u001b[39m=\u001b[39;49mplugin, \u001b[39m*\u001b[39;49m\u001b[39m*\u001b[39;49mplugin_args)\n\u001b[1;32m     55\u001b[0m \u001b[39mif\u001b[39;00m \u001b[39mnot\u001b[39;00m \u001b[39mhasattr\u001b[39m(img, \u001b[39m'\u001b[39m\u001b[39mndim\u001b[39m\u001b[39m'\u001b[39m):\n\u001b[1;32m     56\u001b[0m     \u001b[39mreturn\u001b[39;00m img\n",
      "File \u001b[0;32m~/anaconda3/envs/class-of-galaxies/lib/python3.10/site-packages/skimage/io/manage_plugins.py:207\u001b[0m, in \u001b[0;36mcall_plugin\u001b[0;34m(kind, *args, **kwargs)\u001b[0m\n\u001b[1;32m    203\u001b[0m     \u001b[39mexcept\u001b[39;00m \u001b[39mIndexError\u001b[39;00m:\n\u001b[1;32m    204\u001b[0m         \u001b[39mraise\u001b[39;00m \u001b[39mRuntimeError\u001b[39;00m(\u001b[39m'\u001b[39m\u001b[39mCould not find the plugin \u001b[39m\u001b[39m\"\u001b[39m\u001b[39m%s\u001b[39;00m\u001b[39m\"\u001b[39m\u001b[39m for \u001b[39m\u001b[39m%s\u001b[39;00m\u001b[39m.\u001b[39m\u001b[39m'\u001b[39m \u001b[39m%\u001b[39m\n\u001b[1;32m    205\u001b[0m                            (plugin, kind))\n\u001b[0;32m--> 207\u001b[0m \u001b[39mreturn\u001b[39;00m func(\u001b[39m*\u001b[39;49margs, \u001b[39m*\u001b[39;49m\u001b[39m*\u001b[39;49mkwargs)\n",
      "File \u001b[0;32m~/anaconda3/envs/class-of-galaxies/lib/python3.10/site-packages/skimage/io/_plugins/imageio_plugin.py:15\u001b[0m, in \u001b[0;36mimread\u001b[0;34m(*args, **kwargs)\u001b[0m\n\u001b[1;32m     13\u001b[0m \u001b[39m@wraps\u001b[39m(imageio_imread)\n\u001b[1;32m     14\u001b[0m \u001b[39mdef\u001b[39;00m \u001b[39mimread\u001b[39m(\u001b[39m*\u001b[39margs, \u001b[39m*\u001b[39m\u001b[39m*\u001b[39mkwargs):\n\u001b[0;32m---> 15\u001b[0m     \u001b[39mreturn\u001b[39;00m np\u001b[39m.\u001b[39masarray(imageio_imread(\u001b[39m*\u001b[39;49margs, \u001b[39m*\u001b[39;49m\u001b[39m*\u001b[39;49mkwargs))\n",
      "File \u001b[0;32m~/anaconda3/envs/class-of-galaxies/lib/python3.10/site-packages/imageio/v2.py:201\u001b[0m, in \u001b[0;36mimread\u001b[0;34m(uri, format, **kwargs)\u001b[0m\n\u001b[1;32m    198\u001b[0m imopen_args[\u001b[39m\"\u001b[39m\u001b[39mlegacy_mode\u001b[39m\u001b[39m\"\u001b[39m] \u001b[39m=\u001b[39m \u001b[39mTrue\u001b[39;00m\n\u001b[1;32m    200\u001b[0m \u001b[39mwith\u001b[39;00m imopen(uri, \u001b[39m\"\u001b[39m\u001b[39mri\u001b[39m\u001b[39m\"\u001b[39m, \u001b[39m*\u001b[39m\u001b[39m*\u001b[39mimopen_args) \u001b[39mas\u001b[39;00m file:\n\u001b[0;32m--> 201\u001b[0m     \u001b[39mreturn\u001b[39;00m file\u001b[39m.\u001b[39;49mread(index\u001b[39m=\u001b[39;49m\u001b[39m0\u001b[39;49m, \u001b[39m*\u001b[39;49m\u001b[39m*\u001b[39;49mkwargs)\n",
      "File \u001b[0;32m~/anaconda3/envs/class-of-galaxies/lib/python3.10/site-packages/imageio/core/legacy_plugin_wrapper.py:145\u001b[0m, in \u001b[0;36mLegacyPlugin.read\u001b[0;34m(self, index, **kwargs)\u001b[0m\n\u001b[1;32m    142\u001b[0m     img \u001b[39m=\u001b[39m np\u001b[39m.\u001b[39mstack([im \u001b[39mfor\u001b[39;00m im \u001b[39min\u001b[39;00m \u001b[39mself\u001b[39m\u001b[39m.\u001b[39miter(\u001b[39m*\u001b[39m\u001b[39m*\u001b[39mkwargs)])\n\u001b[1;32m    143\u001b[0m     \u001b[39mreturn\u001b[39;00m img\n\u001b[0;32m--> 145\u001b[0m reader \u001b[39m=\u001b[39m \u001b[39mself\u001b[39;49m\u001b[39m.\u001b[39;49mlegacy_get_reader(\u001b[39m*\u001b[39;49m\u001b[39m*\u001b[39;49mkwargs)\n\u001b[1;32m    146\u001b[0m \u001b[39mreturn\u001b[39;00m reader\u001b[39m.\u001b[39mget_data(index)\n",
      "File \u001b[0;32m~/anaconda3/envs/class-of-galaxies/lib/python3.10/site-packages/imageio/core/legacy_plugin_wrapper.py:114\u001b[0m, in \u001b[0;36mLegacyPlugin.legacy_get_reader\u001b[0;34m(self, **kwargs)\u001b[0m\n\u001b[1;32m    111\u001b[0m     \u001b[39mreturn\u001b[39;00m \u001b[39mself\u001b[39m\u001b[39m.\u001b[39m_format\u001b[39m.\u001b[39mget_reader(\u001b[39mself\u001b[39m\u001b[39m.\u001b[39m_request)\n\u001b[1;32m    113\u001b[0m \u001b[39mself\u001b[39m\u001b[39m.\u001b[39m_request\u001b[39m.\u001b[39mget_file()\u001b[39m.\u001b[39mseek(\u001b[39m0\u001b[39m)\n\u001b[0;32m--> 114\u001b[0m \u001b[39mreturn\u001b[39;00m \u001b[39mself\u001b[39;49m\u001b[39m.\u001b[39;49m_format\u001b[39m.\u001b[39;49mget_reader(\u001b[39mself\u001b[39;49m\u001b[39m.\u001b[39;49m_request)\n",
      "File \u001b[0;32m~/anaconda3/envs/class-of-galaxies/lib/python3.10/site-packages/imageio/core/format.py:220\u001b[0m, in \u001b[0;36mFormat.get_reader\u001b[0;34m(self, request)\u001b[0m\n\u001b[1;32m    216\u001b[0m \u001b[39mif\u001b[39;00m select_mode \u001b[39mnot\u001b[39;00m \u001b[39min\u001b[39;00m \u001b[39mself\u001b[39m\u001b[39m.\u001b[39mmodes:\n\u001b[1;32m    217\u001b[0m     \u001b[39mraise\u001b[39;00m \u001b[39mRuntimeError\u001b[39;00m(\n\u001b[1;32m    218\u001b[0m         \u001b[39mf\u001b[39m\u001b[39m\"\u001b[39m\u001b[39mFormat \u001b[39m\u001b[39m{\u001b[39;00m\u001b[39mself\u001b[39m\u001b[39m.\u001b[39mname\u001b[39m}\u001b[39;00m\u001b[39m cannot read in \u001b[39m\u001b[39m{\u001b[39;00mrequest\u001b[39m.\u001b[39mmode\u001b[39m.\u001b[39mimage_mode\u001b[39m}\u001b[39;00m\u001b[39m mode\u001b[39m\u001b[39m\"\u001b[39m\n\u001b[1;32m    219\u001b[0m     )\n\u001b[0;32m--> 220\u001b[0m \u001b[39mreturn\u001b[39;00m \u001b[39mself\u001b[39;49m\u001b[39m.\u001b[39;49mReader(\u001b[39mself\u001b[39;49m, request)\n",
      "File \u001b[0;32m~/anaconda3/envs/class-of-galaxies/lib/python3.10/site-packages/imageio/core/format.py:311\u001b[0m, in \u001b[0;36mFormat._BaseReaderWriter.__init__\u001b[0;34m(self, format, request)\u001b[0m\n\u001b[1;32m    309\u001b[0m \u001b[39mself\u001b[39m\u001b[39m.\u001b[39m_request \u001b[39m=\u001b[39m request\n\u001b[1;32m    310\u001b[0m \u001b[39m# Open the reader/writer\u001b[39;00m\n\u001b[0;32m--> 311\u001b[0m \u001b[39mself\u001b[39;49m\u001b[39m.\u001b[39;49m_open(\u001b[39m*\u001b[39;49m\u001b[39m*\u001b[39;49m\u001b[39mself\u001b[39;49m\u001b[39m.\u001b[39;49mrequest\u001b[39m.\u001b[39;49mkwargs\u001b[39m.\u001b[39;49mcopy())\n",
      "File \u001b[0;32m~/anaconda3/envs/class-of-galaxies/lib/python3.10/site-packages/imageio/plugins/pillow_legacy.py:468\u001b[0m, in \u001b[0;36mJPEGFormat.Reader._open\u001b[0;34m(self, pilmode, as_gray, exifrotate)\u001b[0m\n\u001b[1;32m    467\u001b[0m \u001b[39mdef\u001b[39;00m \u001b[39m_open\u001b[39m(\u001b[39mself\u001b[39m, pilmode\u001b[39m=\u001b[39m\u001b[39mNone\u001b[39;00m, as_gray\u001b[39m=\u001b[39m\u001b[39mFalse\u001b[39;00m, exifrotate\u001b[39m=\u001b[39m\u001b[39mTrue\u001b[39;00m):\n\u001b[0;32m--> 468\u001b[0m     \u001b[39mreturn\u001b[39;00m PillowFormat\u001b[39m.\u001b[39;49mReader\u001b[39m.\u001b[39;49m_open(\u001b[39mself\u001b[39;49m, pilmode\u001b[39m=\u001b[39;49mpilmode, as_gray\u001b[39m=\u001b[39;49mas_gray)\n",
      "File \u001b[0;32m~/anaconda3/envs/class-of-galaxies/lib/python3.10/site-packages/imageio/plugins/pillow_legacy.py:300\u001b[0m, in \u001b[0;36mPillowFormat.Reader._open\u001b[0;34m(self, pilmode, as_gray)\u001b[0m\n\u001b[1;32m    298\u001b[0m \u001b[39mif\u001b[39;00m \u001b[39mself\u001b[39m\u001b[39m.\u001b[39m_im\u001b[39m.\u001b[39mpalette \u001b[39mand\u001b[39;00m \u001b[39mself\u001b[39m\u001b[39m.\u001b[39m_im\u001b[39m.\u001b[39mpalette\u001b[39m.\u001b[39mdirty:\n\u001b[1;32m    299\u001b[0m     \u001b[39mself\u001b[39m\u001b[39m.\u001b[39m_im\u001b[39m.\u001b[39mpalette\u001b[39m.\u001b[39mrawmode_saved \u001b[39m=\u001b[39m \u001b[39mself\u001b[39m\u001b[39m.\u001b[39m_im\u001b[39m.\u001b[39mpalette\u001b[39m.\u001b[39mrawmode\n\u001b[0;32m--> 300\u001b[0m pil_try_read(\u001b[39mself\u001b[39;49m\u001b[39m.\u001b[39;49m_im)\n\u001b[1;32m    301\u001b[0m \u001b[39m# Store args\u001b[39;00m\n\u001b[1;32m    302\u001b[0m \u001b[39mself\u001b[39m\u001b[39m.\u001b[39m_kwargs \u001b[39m=\u001b[39m \u001b[39mdict\u001b[39m(\n\u001b[1;32m    303\u001b[0m     as_gray\u001b[39m=\u001b[39mas_gray, is_gray\u001b[39m=\u001b[39m_palette_is_grayscale(\u001b[39mself\u001b[39m\u001b[39m.\u001b[39m_im)\n\u001b[1;32m    304\u001b[0m )\n",
      "File \u001b[0;32m~/anaconda3/envs/class-of-galaxies/lib/python3.10/site-packages/imageio/plugins/pillow_legacy.py:654\u001b[0m, in \u001b[0;36mpil_try_read\u001b[0;34m(im)\u001b[0m\n\u001b[1;32m    651\u001b[0m \u001b[39mdef\u001b[39;00m \u001b[39mpil_try_read\u001b[39m(im):\n\u001b[1;32m    652\u001b[0m     \u001b[39mtry\u001b[39;00m:\n\u001b[1;32m    653\u001b[0m         \u001b[39m# this will raise an IOError if the file is not readable\u001b[39;00m\n\u001b[0;32m--> 654\u001b[0m         im\u001b[39m.\u001b[39;49mgetdata()[\u001b[39m0\u001b[39m]\n\u001b[1;32m    655\u001b[0m     \u001b[39mexcept\u001b[39;00m \u001b[39mIOError\u001b[39;00m \u001b[39mas\u001b[39;00m e:\n\u001b[1;32m    656\u001b[0m         site \u001b[39m=\u001b[39m \u001b[39m\"\u001b[39m\u001b[39mhttp://pillow.readthedocs.io/en/latest/installation.html\u001b[39m\u001b[39m\"\u001b[39m\n",
      "File \u001b[0;32m~/anaconda3/envs/class-of-galaxies/lib/python3.10/site-packages/PIL/Image.py:1359\u001b[0m, in \u001b[0;36mImage.getdata\u001b[0;34m(self, band)\u001b[0m\n\u001b[1;32m   1341\u001b[0m \u001b[39mdef\u001b[39;00m \u001b[39mgetdata\u001b[39m(\u001b[39mself\u001b[39m, band\u001b[39m=\u001b[39m\u001b[39mNone\u001b[39;00m):\n\u001b[1;32m   1342\u001b[0m     \u001b[39m\"\"\"\u001b[39;00m\n\u001b[1;32m   1343\u001b[0m \u001b[39m    Returns the contents of this image as a sequence object\u001b[39;00m\n\u001b[1;32m   1344\u001b[0m \u001b[39m    containing pixel values.  The sequence object is flattened, so\u001b[39;00m\n\u001b[0;32m   (...)\u001b[0m\n\u001b[1;32m   1356\u001b[0m \u001b[39m    :returns: A sequence-like object.\u001b[39;00m\n\u001b[1;32m   1357\u001b[0m \u001b[39m    \"\"\"\u001b[39;00m\n\u001b[0;32m-> 1359\u001b[0m     \u001b[39mself\u001b[39;49m\u001b[39m.\u001b[39;49mload()\n\u001b[1;32m   1360\u001b[0m     \u001b[39mif\u001b[39;00m band \u001b[39mis\u001b[39;00m \u001b[39mnot\u001b[39;00m \u001b[39mNone\u001b[39;00m:\n\u001b[1;32m   1361\u001b[0m         \u001b[39mreturn\u001b[39;00m \u001b[39mself\u001b[39m\u001b[39m.\u001b[39mim\u001b[39m.\u001b[39mgetband(band)\n",
      "File \u001b[0;32m~/anaconda3/envs/class-of-galaxies/lib/python3.10/site-packages/PIL/ImageFile.py:260\u001b[0m, in \u001b[0;36mImageFile.load\u001b[0;34m(self)\u001b[0m\n\u001b[1;32m    254\u001b[0m         \u001b[39mraise\u001b[39;00m \u001b[39mOSError\u001b[39;00m(\n\u001b[1;32m    255\u001b[0m             \u001b[39m\"\u001b[39m\u001b[39mimage file is truncated \u001b[39m\u001b[39m\"\u001b[39m\n\u001b[1;32m    256\u001b[0m             \u001b[39mf\u001b[39m\u001b[39m\"\u001b[39m\u001b[39m(\u001b[39m\u001b[39m{\u001b[39;00m\u001b[39mlen\u001b[39m(b)\u001b[39m}\u001b[39;00m\u001b[39m bytes not processed)\u001b[39m\u001b[39m\"\u001b[39m\n\u001b[1;32m    257\u001b[0m         )\n\u001b[1;32m    259\u001b[0m b \u001b[39m=\u001b[39m b \u001b[39m+\u001b[39m s\n\u001b[0;32m--> 260\u001b[0m n, err_code \u001b[39m=\u001b[39m decoder\u001b[39m.\u001b[39;49mdecode(b)\n\u001b[1;32m    261\u001b[0m \u001b[39mif\u001b[39;00m n \u001b[39m<\u001b[39m \u001b[39m0\u001b[39m:\n\u001b[1;32m    262\u001b[0m     \u001b[39mbreak\u001b[39;00m\n",
      "\u001b[0;31mKeyboardInterrupt\u001b[0m: "
     ]
    }
   ],
   "source": [
    "epochs = 3\n",
    "\n",
    "if not load_t01:\n",
    "    net.trainloop(trainloader, optim_t01, criterion, net_t01, epochs=epochs)\n",
    "\n",
    "    if save_t01:\n",
    "        net.save_net(net_t01)\n",
    "else:\n",
    "    net_t01 = net.load_net(net_t01, device=device)\n",
    "\n",
    "net.validation_loop(testloader, criterion, net_t01)"
   ]
  },
  {
   "cell_type": "code",
   "execution_count": null,
   "metadata": {},
   "outputs": [
    {
     "name": "stdout",
     "output_type": "stream",
     "text": [
      "43915\n",
      "Guess: featured\n",
      "Label: smooth\n"
     ]
    },
    {
     "data": {
      "image/png": "[encoded data removed]",
      "text/plain": [
       "<Figure size 640x480 with 1 Axes>"
      ]
     },
     "metadata": {},
     "output_type": "display_data"
    }
   ],
   "source": [
    "entry = next(iter(testloader))\n",
    "image = entry[0]\n",
    "label = entry[1:]\n",
    "\n",
    "print(len(testset))\n",
    "\n",
    "prediction_t00 = net_t00(image.reshape(batch_size,3,image_size,image_size))\n",
    "prediction_t01 = net_t01(image.reshape(batch_size,3,image_size,image_size))\n",
    "\n",
    "plt.imshow(image[0].permute(1,2,0).cpu().numpy())\n",
    "\n",
    "#print(prediction.topk(1,dim=1)[1][0])\n",
    "\n",
    "print('Guess: ' + ['smooth', 'featured', 'star'][prediction_t00.topk(1,dim=1)[1][0].item()])\n",
    "print('Label: ' + ['smooth', 'featured', 'star'][label[0][0].item()])\n",
    "if label[0][0].item() == 1:#prediction_t00.topk(1,dim=1)[1][0].item() == 1:\n",
    "    print('> edgeon? G: ' + ['yes', 'no'][prediction_t01.topk(1,dim=1)[1][0]] + ', L: ' + ['yes', 'no'][label[0][1].item()])\n",
    "#print('Label percentage: ' + str(label_split[0].tolist()))"
   ]
  }
 ],
 "metadata": {
  "kernelspec": {
   "display_name": "class-of-galaxies",
   "language": "python",
   "name": "python3"
  },
  "language_info": {
   "codemirror_mode": {
    "name": "ipython",
    "version": 3
   },
   "file_extension": ".py",
   "mimetype": "text/x-python",
   "name": "python",
   "nbconvert_exporter": "python",
   "pygments_lexer": "ipython3",
   "version": "3.10.8"
  },
  "orig_nbformat": 4,
  "vscode": {
   "interpreter": {
    "hash": "dc74a37fd9b5dae04537e23c756462ec4e88f32b6546978c8f3b7d587dee2175"
   }
  }
 },
 "nbformat": 4,
 "nbformat_minor": 2
}
