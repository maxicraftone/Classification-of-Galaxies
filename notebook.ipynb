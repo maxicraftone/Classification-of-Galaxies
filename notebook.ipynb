{
 "cells": [
  {
   "cell_type": "code",
   "execution_count": 68,
   "metadata": {},
   "outputs": [],
   "source": [
    "from torchvision import transforms\n",
    "from torch.utils.data import random_split\n",
    "from torch.utils.data import Dataset\n",
    "from torch.utils.data import DataLoader\n",
    "\n",
    "from torch import nn\n",
    "import torch.nn.functional as F\n",
    "import torch\n",
    "from torch.optim import Adam\n",
    "\n",
    "from torch import cuda\n",
    "\n",
    "from torchinfo import summary\n",
    "\n",
    "import matplotlib.pyplot as plt\n",
    "import pandas as pd\n",
    "from skimage import io\n",
    "from tqdm import tqdm\n",
    "import os"
   ]
  },
  {
   "cell_type": "code",
   "execution_count": 69,
   "metadata": {},
   "outputs": [],
   "source": [
    "### Parameters\n",
    "batch_size = 64\n",
    "crop_size = 256\n",
    "image_size = 102\n",
    "\n",
    "save_t00 = True\n",
    "load_t00 = False\n",
    "\n",
    "save_t01 = True\n",
    "load_t01 = False\n",
    "\n",
    "torch.manual_seed(12)\n",
    "\n",
    "if cuda.is_available():\n",
    "    device = 'cuda'\n",
    "else:\n",
    "    device = 'cpu'\n",
    "\n",
    "### Hyperparams\n",
    "learning_rate = 0.002"
   ]
  },
  {
   "cell_type": "code",
   "execution_count": 70,
   "metadata": {},
   "outputs": [],
   "source": [
    "class GZ2Dataset(Dataset):\n",
    "    def __init__(self, csv_file_maps: str, csv_file_data: str, root_dir: str, transform = None) -> None:\n",
    "        \"\"\"\n",
    "        Initializes the dataset.\n",
    "\n",
    "        Parameters:\n",
    "            csv_file_maps (str): Name of *.csv file that contains the filename to id mapping for the images\n",
    "            csv_file_data (str): Name of *.csv file that contains the labeled data for every id\n",
    "            root_dir (str): Directory containing all the images\n",
    "            transform (class from torchvision.transforms): Transform to be used on the image data\n",
    "        \"\"\"\n",
    "        self.maps = pd.read_csv(csv_file_maps)\n",
    "        self.data = pd.read_csv(csv_file_data).iloc[:1000]\n",
    "        self.root_dir = root_dir\n",
    "        self.transform = transform\n",
    "    \n",
    "    def __len__(self) -> int:\n",
    "        \"\"\"\n",
    "        Returns the size of the dataset as number of elements.\n",
    "\n",
    "        Returns:\n",
    "            int: Number of elements\n",
    "        \"\"\"\n",
    "        return len(self.data)\n",
    "    \n",
    "    def __getitem__(self, index: int) -> tuple:\n",
    "        \"\"\"\n",
    "        Returns an element from the dataset for a given index.\n",
    "\n",
    "        Parameters:\n",
    "            index (int): The index of the element to be returned\n",
    "\n",
    "        Returns:\n",
    "            tuple: Tuple in the form of (image_data: torch.Tensor, datapoint_1, datapoint_2, ...)\n",
    "\n",
    "        \"\"\"\n",
    "        # Value of the \"dr7objid\" field for the current element\n",
    "        dr7objid = self.data.iloc[index]['dr7objid']\n",
    "\n",
    "        filename = str(self.maps[self.maps['objid'] == dr7objid]['asset_id'].item()) + '.jpg'\n",
    "        image_path = os.path.join(self.root_dir, filename)\n",
    "        image = io.imread(image_path) # Load image as numpy tensor with normalized color values\n",
    "\n",
    "        # pandas Dataframe containing all the datapoints for the given dr7objid\n",
    "        image_data = self.data.loc[self.data['dr7objid'] == dr7objid]\n",
    "\n",
    "        # Select prediction (for t01) from maximum percentage of votes \n",
    "        predictions_t01 = [image_data.to_numpy()[0][13], image_data.to_numpy()[0][19], image_data.to_numpy()[0][25]]\n",
    "        prediction_t01 = predictions_t01.index(max(predictions_t01))\n",
    "\n",
    "        predictions_t02 = [image_data.to_numpy()[0][31], image_data.to_numpy()[0][37]]\n",
    "        prediction_t02 = predictions_t02.index(max(predictions_t02))\n",
    "\n",
    "        # Possible predictions:\n",
    "        # 0:= smooth\n",
    "        # 1:= features\n",
    "        # 2:= star\n",
    "\n",
    "        if self.transform:\n",
    "            image = self.transform(image)\n",
    "\n",
    "        output = tuple([image.to(device), torch.tensor(prediction_t01).to(device), torch.tensor(prediction_t02).to(device)])#, torch.tensor(predictions).to(device)])\n",
    "\n",
    "        return output\n",
    "    \n",
    "    def preprocess(self):\n",
    "        \"\"\"\n",
    "        Removes all rows from the list, where the difference between the fractions of votes on smooth vs. featured is less than 20%.\n",
    "        Additionally reserves last 15% of remaining dataset for test data.\n",
    "        \"\"\"\n",
    "        self.data = self.data[abs(self.data['t01_smooth_or_features_a01_smooth_weighted_fraction'] - self.data['t01_smooth_or_features_a02_features_or_disk_weighted_fraction']) > 0.2]\n",
    "        self.test_data = self.data.iloc[-round(0.15*len(self.data)):,:]\n",
    "        self.data = self.data.iloc[:-round(0.15*len(self.data)),:] # Reserve last 15% of elements for testing\n",
    "        self.data.reset_index()"
   ]
  },
  {
   "cell_type": "code",
   "execution_count": 71,
   "metadata": {},
   "outputs": [],
   "source": [
    "transform = transforms.Compose([transforms.ToTensor(), \n",
    "                                transforms.RandomRotation(degrees=(0,180)), \n",
    "                                transforms.CenterCrop(crop_size), \n",
    "                                transforms.Resize(image_size)]) # Transforms to be used on the data\n",
    "\n",
    "dataset = GZ2Dataset(csv_file_maps='gz2_filename_mapping.csv', \n",
    "                     csv_file_data='gz2_hart16_cleaned.csv', \n",
    "                     root_dir='images_gz2/images/', \n",
    "                     transform=transform)\n",
    "\n",
    "dataset.preprocess()\n",
    "\n",
    "# Split dataset into training and validation data using 80% of the dataset for training and 20% for validation \n",
    "trainset, valset = random_split(dataset, [round(0.8*len(dataset)), round(0.2*len(dataset))])"
   ]
  },
  {
   "cell_type": "code",
   "execution_count": 72,
   "metadata": {},
   "outputs": [
    {
     "name": "stdout",
     "output_type": "stream",
     "text": [
      "751\n"
     ]
    }
   ],
   "source": [
    "trainloader = DataLoader(trainset, batch_size=batch_size, shuffle=True)\n",
    "valloader = DataLoader(valset, batch_size=batch_size, shuffle=True)\n",
    "print(len(dataset))"
   ]
  },
  {
   "cell_type": "code",
   "execution_count": 73,
   "metadata": {},
   "outputs": [],
   "source": [
    "class CNN_T00(nn.Module):\n",
    "    def __init__(self, save_file: str):\n",
    "        super(CNN_T00, self).__init__()\n",
    "        self.save_file = save_file\n",
    "        \n",
    "        self.net = nn.Sequential(nn.Conv2d(3, 32, 3),\n",
    "                                 nn.MaxPool2d((2,2)),\n",
    "                                 nn.Dropout(0.1),\n",
    "\n",
    "                                 nn.Conv2d(32, 64, 3),\n",
    "                                 nn.MaxPool2d((2,2)),\n",
    "                                 nn.Dropout(0.1),\n",
    "\n",
    "                                 nn.Conv2d(64, 128, 3),\n",
    "                                 nn.MaxPool2d((2,2)),\n",
    "                                 nn.Dropout(0.2),\n",
    "\n",
    "                                 nn.Conv2d(128, 256, 3),\n",
    "                                 nn.MaxPool2d((2,2)),\n",
    "                                 nn.Dropout(0.3),\n",
    "\n",
    "                                 nn.Flatten(),\n",
    "\n",
    "                                 nn.Linear(256 * 4 * 4, 128),\n",
    "                                 nn.ReLU(),\n",
    "                                 nn.Dropout(0.4),\n",
    "\n",
    "                                 nn.Linear(128, 32),\n",
    "                                 nn.LeakyReLU(),\n",
    "                                 nn.Dropout(0.5),\n",
    "                                 \n",
    "                                 nn.Linear(32, 3))\n",
    "    \n",
    "    def forward(self, x):\n",
    "        x = self.net(x)\n",
    "        return x"
   ]
  },
  {
   "cell_type": "code",
   "execution_count": 75,
   "metadata": {},
   "outputs": [],
   "source": [
    "net_t00 = CNN_T00('net_t00.state').to(device)\n",
    "net_t01 = CNN_T01('net_t01.state').to(device)\n",
    "\n",
    "optim_t00 = Adam(net_t00.parameters(), lr=learning_rate)\n",
    "optim_t01 = Adam(net_t01.parameters(), lr=learning_rate)\n",
    "criterion = nn.CrossEntropyLoss().to(device)"
   ]
  },
  {
   "cell_type": "code",
   "execution_count": 76,
   "metadata": {},
   "outputs": [
    {
     "name": "stderr",
     "output_type": "stream",
     "text": [
      "Epoch [1/5]: 100%|██████████| 10/10 [00:08<00:00,  1.15it/s, loss=0.741]\n",
      "> Validation on test data : 100%|██████████| 3/3 [00:01<00:00,  1.89it/s, acc=0.762, loss=0.567]\n",
      "Epoch [2/5]: 100%|██████████| 10/10 [00:07<00:00,  1.29it/s, loss=0.563]\n",
      "> Validation on test data : 100%|██████████| 3/3 [00:01<00:00,  1.99it/s, acc=0.742, loss=0.505]\n",
      "Epoch [3/5]: 100%|██████████| 10/10 [00:07<00:00,  1.33it/s, loss=0.516]\n",
      "> Validation on test data : 100%|██████████| 3/3 [00:01<00:00,  1.97it/s, acc=0.723, loss=0.537]\n",
      "Epoch [4/5]: 100%|██████████| 10/10 [00:07<00:00,  1.33it/s, loss=0.507]\n",
      "> Validation on test data : 100%|██████████| 3/3 [00:01<00:00,  1.96it/s, acc=0.757, loss=0.453]\n",
      "Epoch [5/5]: 100%|██████████| 10/10 [00:07<00:00,  1.32it/s, loss=0.489]\n",
      "> Validation on test data : 100%|██████████| 3/3 [00:01<00:00,  1.89it/s, acc=0.732, loss=0.482]\n"
     ]
    }
   ],
   "source": [
    "import net\n",
    "\n",
    "epochs = 5\n",
    "\n",
    "if not load_t00:\n",
    "    net.train_validation_loop(trainloader, valloader, optim_t00, criterion, net_t00, epochs, True)\n",
    "\n",
    "    if save_t00:\n",
    "        net.save_net(net_t00)\n",
    "else:\n",
    "    net_t00 = net.load_net(net_t00, device=device)"
   ]
  },
  {
   "cell_type": "code",
   "execution_count": 77,
   "metadata": {},
   "outputs": [
    {
     "name": "stderr",
     "output_type": "stream",
     "text": [
      "> Validation on test data : 100%|██████████| 3/3 [00:01<00:00,  1.98it/s, acc=0.717, loss=0.505]\n"
     ]
    }
   ],
   "source": [
    "net.validation_loop(valloader, criterion, net_t00)"
   ]
  },
  {
   "cell_type": "code",
   "execution_count": null,
   "metadata": {},
   "outputs": [],
   "source": []
  },
  {
   "cell_type": "code",
   "execution_count": 78,
   "metadata": {},
   "outputs": [
    {
     "name": "stdout",
     "output_type": "stream",
     "text": [
      "150\n",
      "Guess: smooth\n",
      "Label: featured\n"
     ]
    },
    {
     "data": {
      "image/png": "[encoded data removed]",
      "text/plain": [
       "<Figure size 640x480 with 1 Axes>"
      ]
     },
     "metadata": {},
     "output_type": "display_data"
    }
   ],
   "source": [
    "entry = next(iter(valloader))\n",
    "image = entry[0]\n",
    "label = entry[1:]\n",
    "\n",
    "print(len(valset))\n",
    "\n",
    "prediction_t00 = net_t00(image.reshape(batch_size,3,image_size,image_size))\n",
    "#prediction_t01 = net_t01(image.reshape(batch_size,3,image_size,image_size))\n",
    "\n",
    "plt.imshow(image[0].permute(1,2,0).cpu().numpy())\n",
    "\n",
    "#print(prediction.topk(1,dim=1)[1][0])\n",
    "\n",
    "print('Guess: ' + ['smooth', 'featured', 'star'][prediction_t00.topk(1,dim=1)[1][0].item()])\n",
    "print('Label: ' + ['smooth', 'featured', 'star'][label[0][0].item()])\n",
    "#if label[0][0].item() == 1:#prediction_t00.topk(1,dim=1)[1][0].item() == 1:\n",
    "#    print('> edgeon? G: ' + ['yes', 'no'][prediction_t01.topk(1,dim=1)[1][0]] + ', L: ' + ['yes', 'no'][label[0][1].item()])\n",
    "#print('Label percentage: ' + str(label_split[0].tolist()))"
   ]
  }
 ],
 "metadata": {
  "kernelspec": {
   "display_name": "class-of-galaxies",
   "language": "python",
   "name": "python3"
  },
  "language_info": {
   "codemirror_mode": {
    "name": "ipython",
    "version": 3
   },
   "file_extension": ".py",
   "mimetype": "text/x-python",
   "name": "python",
   "nbconvert_exporter": "python",
   "pygments_lexer": "ipython3",
   "version": "3.10.9"
  },
  "orig_nbformat": 4,
  "vscode": {
   "interpreter": {
    "hash": "fbd6a3c636a5515f48359fb11b764fee7b9f5bb910f69af128bf07f614edcbfe"
   }
  }
 },
 "nbformat": 4,
 "nbformat_minor": 2
}
